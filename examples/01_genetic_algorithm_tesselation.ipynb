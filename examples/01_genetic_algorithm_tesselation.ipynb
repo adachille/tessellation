{
 "cells": [
  {
   "cell_type": "markdown",
   "id": "135fd008",
   "metadata": {},
   "source": [
    "# Genetic Algorithm Tessellation\n",
    "In this notebook, we'll use genetic algorithms to create tessellations!"
   ]
  },
  {
   "cell_type": "markdown",
   "id": "ac7b1111",
   "metadata": {},
   "source": [
    "## Setup"
   ]
  },
  {
   "cell_type": "code",
   "execution_count": 1,
   "id": "8824de5f",
   "metadata": {},
   "outputs": [],
   "source": [
    "%load_ext autoreload\n",
    "%autoreload 2\n",
    "\n",
    "import os\n",
    "os.chdir(\"..\") # Move execution to root dir"
   ]
  },
  {
   "cell_type": "code",
   "execution_count": 15,
   "id": "78914b74",
   "metadata": {},
   "outputs": [],
   "source": [
    "from enum import Enum, auto\n",
    "from typing import Callable, Iterator, Optional\n",
    "\n",
    "import numpy as np\n",
    "from matplotlib import pyplot as plt \n",
    "from leap_ec import ops, probe\n",
    "from leap_ec.algorithm import generational_ea\n",
    "from leap_ec.representation import Representation\n",
    "\n",
    "from tessellation.draw import MPLDrawer\n",
    "from tessellation.procgen.generator import ALL_ACTIONS, Action, Generator \n",
    "from tessellation.procgen.ga.evolution import Mutator\n",
    "from tessellation.procgen.ga.genome import TessellationDecoder\n",
    "from tessellation.procgen.ga.heuristics import count_number_points_heuristic\n",
    "from tessellation.procgen.ga.problem import TessellationProblem, initialize_genome"
   ]
  },
  {
   "cell_type": "markdown",
   "id": "279f977f",
   "metadata": {},
   "source": [
    "## Configuration"
   ]
  },
  {
   "cell_type": "code",
   "execution_count": 3,
   "id": "e12fc97d",
   "metadata": {},
   "outputs": [],
   "source": [
    "# Proc gen constants\n",
    "SEED = 32\n",
    "SIDE_LEN = 100\n",
    "\n",
    "# Genetic Algorithm config\n",
    "SIDE_LEN = 100\n",
    "MUTATION_PROB = 0.1\n",
    "POP_SIZE = 10\n",
    "MAX_GENERATIONS = 20\n",
    "\n",
    "# Draw config\n",
    "CMAP = \"gray\"\n",
    "drawer = MPLDrawer(CMAP)    "
   ]
  },
  {
   "cell_type": "markdown",
   "id": "6c034959",
   "metadata": {},
   "source": [
    "## Genetic Algorithm Tessellation\n",
    "We'll be using the LEAP package for our genetic algorithms."
   ]
  },
  {
   "cell_type": "markdown",
   "id": "4febc863",
   "metadata": {},
   "source": [
    "### Simple test\n",
    "Let's start by trying out the simplest form of GA - simple real-valued function optimization."
   ]
  },
  {
   "cell_type": "code",
   "execution_count": 4,
   "id": "b8424802",
   "metadata": {
    "scrolled": true
   },
   "outputs": [
    {
     "name": "stdout",
     "output_type": "stream",
     "text": [
      "step,bsf\n",
      "0,213.0871863162543\n",
      "1,295.53593180674187\n",
      "2,295.53593180674187\n",
      "3,295.53593180674187\n",
      "4,422.3209641401956\n",
      "5,422.3209641401956\n",
      "6,422.3209641401956\n",
      "7,422.3209641401956\n",
      "8,437.8530222632914\n",
      "9,470.93666367621154\n",
      "10,482.20196416052346\n",
      "11,482.20196416052346\n",
      "12,573.9565261593353\n",
      "13,573.9565261593353\n",
      "14,601.4525992720552\n",
      "15,601.4525992720552\n",
      "16,601.4525992720552\n",
      "17,601.4525992720552\n",
      "18,601.4525992720552\n",
      "19,633.6456725128428\n",
      "20,633.6456725128428\n",
      "21,633.6456725128428\n",
      "22,638.7721394036669\n",
      "23,652.294145866975\n",
      "24,652.294145866975\n",
      "25,652.294145866975\n",
      "26,652.294145866975\n",
      "27,652.294145866975\n",
      "28,652.294145866975\n",
      "29,652.294145866975\n",
      "30,652.294145866975\n",
      "31,652.294145866975\n",
      "32,652.294145866975\n",
      "33,652.294145866975\n",
      "34,652.294145866975\n",
      "35,652.294145866975\n",
      "36,652.294145866975\n",
      "37,652.294145866975\n",
      "38,652.294145866975\n",
      "39,655.3600000000001\n",
      "40,655.3600000000001\n",
      "41,655.3600000000001\n",
      "42,655.3600000000001\n",
      "43,655.3600000000001\n",
      "44,655.3600000000001\n",
      "45,655.3600000000001\n",
      "46,655.3600000000001\n",
      "47,655.3600000000001\n",
      "48,655.3600000000001\n",
      "49,655.3600000000001\n",
      "50,655.3600000000001\n",
      "51,655.3600000000001\n",
      "52,655.3600000000001\n",
      "53,655.3600000000001\n",
      "54,655.3600000000001\n",
      "55,655.3600000000001\n",
      "56,655.3600000000001\n",
      "57,655.3600000000001\n",
      "58,655.3600000000001\n",
      "59,655.3600000000001\n",
      "60,655.3600000000001\n",
      "61,655.3600000000001\n",
      "62,655.3600000000001\n",
      "63,655.3600000000001\n",
      "64,655.3600000000001\n",
      "65,655.3600000000001\n",
      "66,655.3600000000001\n",
      "67,655.3600000000001\n",
      "68,655.3600000000001\n",
      "69,655.3600000000001\n",
      "70,655.3600000000001\n",
      "71,655.3600000000001\n",
      "72,655.3600000000001\n",
      "73,655.3600000000001\n",
      "74,655.3600000000001\n",
      "75,655.3600000000001\n",
      "76,655.3600000000001\n",
      "77,655.3600000000001\n",
      "78,655.3600000000001\n",
      "79,655.3600000000001\n",
      "80,655.3600000000001\n",
      "81,655.3600000000001\n",
      "82,655.3600000000001\n",
      "83,655.3600000000001\n",
      "84,655.3600000000001\n",
      "85,655.3600000000001\n",
      "86,655.3600000000001\n",
      "87,655.3600000000001\n",
      "88,655.3600000000001\n",
      "89,655.3600000000001\n",
      "90,655.3600000000001\n",
      "91,655.3600000000001\n",
      "92,655.3600000000001\n",
      "93,655.3600000000001\n",
      "94,655.3600000000001\n",
      "95,655.3600000000001\n",
      "96,655.3600000000001\n",
      "97,655.3600000000001\n",
      "98,655.3600000000001\n",
      "99,655.3600000000001\n"
     ]
    },
    {
     "data": {
      "text/plain": [
       "array([5.12, 5.12, 5.12, 5.12, 5.12])"
      ]
     },
     "execution_count": 4,
     "metadata": {},
     "output_type": "execute_result"
    }
   ],
   "source": [
    "from leap_ec.simple import ea_solve\n",
    "\n",
    "def f(x):\n",
    "    \"\"\"A real-valued function to optimized.\"\"\"\n",
    "    return sum(x)**2\n",
    "\n",
    "ea_solve(f, bounds=[(-5.12, 5.12) for _ in range(5)], maximize=True)"
   ]
  },
  {
   "cell_type": "markdown",
   "id": "251ab098-2dba-48ca-b86b-2c848ae8ddfb",
   "metadata": {},
   "source": [
    "### Build out Genetic Algorithm"
   ]
  },
  {
   "cell_type": "code",
   "execution_count": 8,
   "id": "e31c5d39-f2e7-4636-9b29-02a40a245f12",
   "metadata": {},
   "outputs": [],
   "source": [
    "problem = TessellationProblem(\n",
    "    heuristic_fns=[count_number_points_heuristic], side_len=SIDE_LEN\n",
    ")\n",
    "\n",
    "representation = Representation(\n",
    "    decoder=TessellationDecoder(),\n",
    "    initialize=lambda: initialize_genome(problem) \n",
    ")\n",
    "mutator = Mutator(mutation_prob=MUTATION_PROB)"
   ]
  },
  {
   "cell_type": "code",
   "execution_count": 16,
   "id": "d527f83a-e71f-4e1a-81fe-c02641857e06",
   "metadata": {},
   "outputs": [
    {
     "name": "stdout",
     "output_type": "stream",
     "text": [
      "step,bsf\n",
      "0,[101.]\n",
      "1,[101.]\n",
      "2,[101.]\n",
      "3,[101.]\n",
      "4,[101.]\n",
      "5,[101.]\n",
      "6,[101.]\n",
      "7,[101.]\n",
      "8,[101.]\n",
      "9,[101.]\n",
      "10,[101.]\n",
      "11,[101.]\n",
      "12,[101.]\n",
      "13,[101.]\n",
      "14,[101.]\n",
      "15,[101.]\n",
      "16,[101.]\n",
      "17,[101.]\n",
      "18,[101.]\n",
      "19,[101.]\n"
     ]
    }
   ],
   "source": [
    "final_pop = generational_ea(\n",
    "    max_generations=MAX_GENERATIONS, \n",
    "    pop_size=POP_SIZE,\n",
    "    problem=problem,\n",
    "    representation=representation,\n",
    "\n",
    "    # The operator pipeline\n",
    "    pipeline=[\n",
    "        # Select parents via tournament_selection selection\n",
    "        ops.tournament_selection,\n",
    "        \n",
    "        ops.clone,  # Copy them (just to be safe)\n",
    "        \n",
    "        # Basic mutation, mutate actions randomly\n",
    "        mutator.mutate_actions_randomly,\n",
    "        \n",
    "        # Crossover with a 40% chance of swapping each gene\n",
    "        # ops.UniformCrossover(p_swap=0.4),\n",
    "        \n",
    "        ops.evaluate,  # Evaluate fitness\n",
    "        \n",
    "        # Collect offspring into a new population\n",
    "        ops.pool(size=POP_SIZE),\n",
    "        \n",
    "        probe.BestSoFarProbe()  # Print the BSF\n",
    "    ]\n",
    ")"
   ]
  },
  {
   "cell_type": "code",
   "execution_count": 18,
   "id": "62b5a613-089d-4822-a737-97aa2d2c40ce",
   "metadata": {},
   "outputs": [
    {
     "data": {
      "image/png": "[encoded data removed]",
      "text/plain": [
       "<Figure size 640x480 with 1 Axes>"
      ]
     },
     "metadata": {},
     "output_type": "display_data"
    },
    {
     "name": "stdout",
     "output_type": "stream",
     "text": [
      "Press 'q' to quit, anything else to continue...\n"
     ]
    },
    {
     "name": "stdin",
     "output_type": "stream",
     "text": [
      " q\n"
     ]
    }
   ],
   "source": [
    "from IPython.display import clear_output\n",
    "\n",
    "for individual in final_pop:\n",
    "    genome = individual.genome\n",
    "    mask = np.zeros((SIDE_LEN, SIDE_LEN))\n",
    "    mask = Generator._draw_line(mask, genome.start_point, genome.actions)\n",
    "\n",
    "    drawer.draw(mask)\n",
    "    plt.show()\n",
    "    print(\"Press 'q' to quit, anything else to continue...\")\n",
    "    user_action = input()\n",
    "    \n",
    "\n",
    "    if user_action.lower() == \"q\":\n",
    "        break\n",
    "    clear_output()\n",
    "    "
   ]
  },
  {
   "cell_type": "code",
   "execution_count": null,
   "id": "143c4760-493e-412b-a46a-1f1566e81edd",
   "metadata": {},
   "outputs": [],
   "source": []
  }
 ],
 "metadata": {
  "kernelspec": {
   "display_name": "Python 3 (ipykernel)",
   "language": "python",
   "name": "python3"
  },
  "language_info": {
   "codemirror_mode": {
    "name": "ipython",
    "version": 3
   },
   "file_extension": ".py",
   "mimetype": "text/x-python",
   "name": "python",
   "nbconvert_exporter": "python",
   "pygments_lexer": "ipython3",
   "version": "3.12.4"
  }
 },
 "nbformat": 4,
 "nbformat_minor": 5
}
