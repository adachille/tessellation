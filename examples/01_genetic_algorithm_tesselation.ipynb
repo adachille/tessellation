{
 "cells": [
  {
   "cell_type": "markdown",
   "id": "135fd008",
   "metadata": {},
   "source": [
    "# Genetic Algorithm Tessellation\n",
    "In this notebook, we'll use genetic algorithms to create tessellations!"
   ]
  },
  {
   "cell_type": "markdown",
   "id": "ac7b1111",
   "metadata": {},
   "source": [
    "## Setup"
   ]
  },
  {
   "cell_type": "code",
   "execution_count": 1,
   "id": "8824de5f",
   "metadata": {},
   "outputs": [],
   "source": [
    "%load_ext autoreload\n",
    "%autoreload 2\n",
    "\n",
    "import os\n",
    "os.chdir(\"..\") # Move execution to root dir"
   ]
  },
  {
   "cell_type": "code",
   "execution_count": 2,
   "id": "78914b74",
   "metadata": {},
   "outputs": [],
   "source": [
    "from datetime import datetime\n",
    "from enum import Enum, auto\n",
    "from pathlib import Path\n",
    "from typing import Callable, Iterator, Optional\n",
    "\n",
    "import numpy as np\n",
    "from matplotlib import pyplot as plt \n",
    "from leap_ec import ops, probe, Individual\n",
    "from leap_ec.algorithm import generational_ea\n",
    "from leap_ec.representation import Representation\n",
    "\n",
    "from tessellation.draw import Drawer\n",
    "from tessellation.procgen import Action, GenerationResult\n",
    "from tessellation.procgen.ga import heuristic, mutate\n",
    "from tessellation.procgen.ga.ga_generator import GATessellationGenerator"
   ]
  },
  {
   "cell_type": "markdown",
   "id": "279f977f",
   "metadata": {},
   "source": [
    "## Configuration"
   ]
  },
  {
   "cell_type": "markdown",
   "id": "768c6ea7-c858-4997-b58c-2457e2af9e6a",
   "metadata": {},
   "source": [
    "### Proc Gen constants"
   ]
  },
  {
   "cell_type": "code",
   "execution_count": 3,
   "id": "10177a81-d0d2-48cd-aa1c-21d694b037a7",
   "metadata": {},
   "outputs": [],
   "source": [
    "# Proc gen constants #\n",
    "SEED = 32\n",
    "SIDE_LEN = 100"
   ]
  },
  {
   "cell_type": "markdown",
   "id": "325c2eaf-e3c1-41a0-a26e-ac46e01abea4",
   "metadata": {},
   "source": [
    "### Genetic algorithm constants"
   ]
  },
  {
   "cell_type": "code",
   "execution_count": 4,
   "id": "e12fc97d",
   "metadata": {},
   "outputs": [],
   "source": [
    "# General\n",
    "POPULATION_SIZE = 50\n",
    "MAX_GENERATIONS = 100\n",
    "\n",
    "# Heuristics\n",
    "HEURISTIC_FNS = [\n",
    "    # lambda phenome:  heuristic.bottom_top_not_even_penalty(phenome, max_diff_before_penalty=20),\n",
    "    heuristic.duplicated_points_penalty,\n",
    "    lambda phenome: heuristic.out_of_bounds_penalty(phenome, SIDE_LEN),\n",
    "    heuristic.count_number_points_reward,\n",
    "    lambda phenome:  heuristic.bottom_top_even_reward(phenome, max_diff_before_reward=20),\n",
    "]\n",
    "HEURISTIC_FN_WEIGHTS = np.array([1, 0.2, 1, 1])\n",
    "\n",
    "# Mutation\n",
    "SUBSTITUTION_PROB, INSERTION_PROB, DELETION_PROB = 0.1, 0.1, 0.1\n",
    "ACTION_PROBS = np.ones(len(Action)) / len(Action)\n",
    "MUTATION_FNS = [\n",
    "    lambda individual_iterator: mutate.apply_mutation(\n",
    "        mutate.substitute_action,\n",
    "        individual_iterator,\n",
    "        fn_kwargs={\"action_probs\": ACTION_PROBS},\n",
    "    ),\n",
    "    lambda individual_iterator: mutate.apply_mutation(\n",
    "        mutate.insert_action,\n",
    "        individual_iterator,\n",
    "        fn_kwargs={\"action_probs\": ACTION_PROBS},\n",
    "    ),\n",
    "    lambda individual_iterator: mutate.apply_mutation(\n",
    "        mutate.delete_action, individual_iterator\n",
    "    ),\n",
    "]\n",
    "\n",
    "# Draw config\n",
    "CMAP = \"gray\"\n",
    "drawer = Drawer(CMAP)    \n",
    "\n",
    "# Save config\n",
    "SAVE_DIR = Path(f\"saved_tessellations/ga/\")\n",
    "SAVE_DIR.mkdir(parents=True, exist_ok=True)"
   ]
  },
  {
   "cell_type": "markdown",
   "id": "6dc439f6-9899-4a95-8277-a59aaa060247",
   "metadata": {},
   "source": [
    "## Genetic Algorithm"
   ]
  },
  {
   "cell_type": "code",
   "execution_count": 12,
   "id": "5e26fef2-2806-4c08-bdca-ca96bf030fa7",
   "metadata": {
    "scrolled": true
   },
   "outputs": [
    {
     "name": "stdout",
     "output_type": "stream",
     "text": [
      "step,bsf\n",
      "0,126.0\n",
      "1,126.0\n",
      "2,126.0\n",
      "3,126.0\n",
      "4,126.0\n",
      "5,133.0\n",
      "6,133.0\n",
      "7,133.0\n",
      "8,133.0\n",
      "9,133.0\n",
      "10,136.0\n",
      "11,141.0\n",
      "12,141.0\n",
      "13,150.0\n",
      "14,151.0\n",
      "15,155.0\n",
      "16,155.0\n",
      "17,161.0\n",
      "18,161.0\n",
      "19,161.0\n",
      "20,161.0\n",
      "21,176.0\n",
      "22,176.0\n",
      "23,176.0\n",
      "24,176.0\n",
      "25,176.0\n",
      "26,176.0\n",
      "27,176.0\n",
      "28,176.0\n",
      "29,176.0\n",
      "30,176.0\n",
      "31,176.0\n",
      "32,177.0\n",
      "33,177.0\n",
      "34,177.0\n",
      "35,177.0\n",
      "36,177.0\n",
      "37,177.0\n",
      "38,177.0\n",
      "39,177.0\n",
      "40,177.0\n",
      "41,177.0\n",
      "42,177.0\n",
      "43,177.0\n",
      "44,177.0\n",
      "45,182.0\n",
      "46,182.0\n",
      "47,182.0\n",
      "48,182.0\n",
      "49,182.0\n",
      "50,182.0\n",
      "51,182.0\n",
      "52,182.0\n",
      "53,182.0\n",
      "54,182.0\n",
      "55,182.0\n",
      "56,182.0\n",
      "57,182.0\n",
      "58,182.0\n",
      "59,182.0\n",
      "60,182.0\n",
      "61,182.0\n",
      "62,182.0\n",
      "63,182.0\n",
      "64,182.0\n",
      "65,182.0\n",
      "66,182.0\n",
      "67,182.0\n",
      "68,182.0\n",
      "69,182.0\n",
      "70,182.0\n",
      "71,182.0\n",
      "72,182.0\n",
      "73,182.0\n",
      "74,182.0\n",
      "75,182.0\n",
      "76,182.0\n",
      "77,182.0\n",
      "78,182.0\n",
      "79,182.0\n",
      "80,182.0\n",
      "81,182.0\n",
      "82,182.0\n",
      "83,182.0\n",
      "84,182.0\n",
      "85,182.0\n",
      "86,182.0\n",
      "87,182.0\n",
      "88,182.0\n",
      "89,182.0\n",
      "90,182.0\n",
      "91,182.0\n",
      "92,182.0\n",
      "93,182.0\n",
      "94,182.0\n",
      "95,182.0\n",
      "96,182.0\n",
      "97,182.0\n",
      "98,182.0\n",
      "99,182.0\n",
      "Invalid individual: Individual<f0baf23e-c338-4c38-aeb7-20d686fdf138> with fitness -19823.0, returning None\n",
      "Invalid individual: Individual<88c37c20-c6f3-43f5-b039-2b4ec5a95ecb> with fitness -19827.0, returning None\n",
      "Invalid individual: Individual<767a56d9-ad35-4baa-9fe9-91abb9641eec> with fitness -19831.0, returning None\n",
      "Invalid individual: Individual<0376dfee-e713-48ba-8172-103f610ca7eb> with fitness -19833.0, returning None\n",
      "Invalid individual: Individual<e918fe99-1e62-48e3-94a4-a893edc3c040> with fitness -19834.0, returning None\n",
      "Invalid individual: Individual<63840423-8ce6-43a9-92e5-1126772e592d> with fitness -19835.0, returning None\n",
      "Invalid individual: Individual<9fb3a9d5-81c5-4b14-b404-073afcce5ca4> with fitness -19836.0, returning None\n",
      "Invalid individual: Individual<c565346d-59b1-4d16-966b-c19ddc68c452> with fitness -19837.0, returning None\n",
      "Invalid individual: Individual<dff8c62b-71ec-4342-b3c0-1564a03bc8c5> with fitness -19837.0, returning None\n",
      "Invalid individual: Individual<1910f47a-0d54-4991-97c3-d55472d96b81> with fitness -19840.0, returning None\n",
      "Invalid individual: Individual<adc90d6a-33ce-4dd9-bfeb-5326aeb60c1f> with fitness -19841.0, returning None\n",
      "Invalid individual: Individual<0559b6d8-1f71-4bd5-80db-adc94a92b9aa> with fitness -19843.0, returning None\n",
      "Invalid individual: Individual<153f7ea3-5c44-4c6f-9eb5-47b119e09002> with fitness -19844.0, returning None\n"
     ]
    }
   ],
   "source": [
    "generator = GATessellationGenerator(\n",
    "    heuristic_fns=HEURISTIC_FNS, \n",
    "    mutation_fns=MUTATION_FNS,\n",
    "    heuristic_fn_weights=HEURISTIC_FN_WEIGHTS, \n",
    "    side_len=SIDE_LEN,\n",
    "    max_generations=MAX_GENERATIONS,\n",
    "    population_size=POPULATION_SIZE,\n",
    ")\n",
    "results = generator.evolve()"
   ]
  },
  {
   "cell_type": "markdown",
   "id": "219545c7-2f7d-43f0-a711-02592ef12f96",
   "metadata": {},
   "source": [
    "## Evaluate"
   ]
  },
  {
   "cell_type": "code",
   "execution_count": 15,
   "id": "76280392-e4d0-409e-9eec-ad0466d714e4",
   "metadata": {},
   "outputs": [
    {
     "name": "stdout",
     "output_type": "stream",
     "text": [
      "Individual: 17; Fitness: 152.0\n"
     ]
    },
    {
     "data": {
      "image/png": "[encoded data removed]",
      "text/plain": [
       "<Figure size 640x480 with 1 Axes>"
      ]
     },
     "metadata": {},
     "output_type": "display_data"
    },
    {
     "name": "stdout",
     "output_type": "stream",
     "text": [
      "Press 's' to save, 'q' to quit, or 'enter' to continue...\n"
     ]
    },
    {
     "name": "stdin",
     "output_type": "stream",
     "text": [
      " q\n"
     ]
    },
    {
     "ename": "KeyboardInterrupt",
     "evalue": "",
     "output_type": "error",
     "traceback": [
      "\u001b[0;31m---------------------------------------------------------------------------\u001b[0m",
      "\u001b[0;31mKeyboardInterrupt\u001b[0m                         Traceback (most recent call last)",
      "Cell \u001b[0;32mIn[15], line 35\u001b[0m\n\u001b[1;32m     32\u001b[0m                     \u001b[38;5;28;01mraise\u001b[39;00m \u001b[38;5;167;01mKeyboardInterrupt\u001b[39;00m\n\u001b[1;32m     33\u001b[0m         clear_output()\n\u001b[0;32m---> 35\u001b[0m \u001b[43mdisplay_tessellations\u001b[49m\u001b[43m(\u001b[49m\u001b[43mresults\u001b[49m\u001b[43m,\u001b[49m\u001b[43m \u001b[49m\u001b[43msave_dir\u001b[49m\u001b[38;5;241;43m=\u001b[39;49m\u001b[43mSAVE_DIR\u001b[49m\u001b[43m)\u001b[49m\n",
      "Cell \u001b[0;32mIn[15], line 32\u001b[0m, in \u001b[0;36mdisplay_tessellations\u001b[0;34m(generation_results, save_dir, show)\u001b[0m\n\u001b[1;32m     30\u001b[0m             \u001b[38;5;28;01mbreak\u001b[39;00m\n\u001b[1;32m     31\u001b[0m         \u001b[38;5;28;01melif\u001b[39;00m user_action\u001b[38;5;241m.\u001b[39mlower() \u001b[38;5;241m==\u001b[39m \u001b[38;5;124m\"\u001b[39m\u001b[38;5;124mq\u001b[39m\u001b[38;5;124m\"\u001b[39m:\n\u001b[0;32m---> 32\u001b[0m             \u001b[38;5;28;01mraise\u001b[39;00m \u001b[38;5;167;01mKeyboardInterrupt\u001b[39;00m\n\u001b[1;32m     33\u001b[0m clear_output()\n",
      "\u001b[0;31mKeyboardInterrupt\u001b[0m: "
     ]
    }
   ],
   "source": [
    "from IPython.display import clear_output\n",
    "\n",
    "def display_tessellations(\n",
    "    generation_results: list[GenerationResult], save_dir: Path, show: bool = True,\n",
    "):\n",
    "    \"\"\"Display tessellations and allow user to save them.\"\"\"\n",
    "    for idx, result in enumerate(generation_results):\n",
    "        print(f'Individual: {idx}; Fitness: {result.metadata[\"fitness\"]}')\n",
    "        \n",
    "        tessellation = drawer.tessellate(result)\n",
    "        drawer.draw(tessellation)\n",
    "        if show:\n",
    "            plt.show()\n",
    "            print(\"Press 's' to save, 'q' to quit, or 'enter' to continue...\")\n",
    "            while True:\n",
    "                user_action = input()\n",
    "                if not user_action:\n",
    "                    break\n",
    "\n",
    "                elif user_action.lower() == \"s\":\n",
    "                    print(\n",
    "                        \"Provide a name for the tessellation, or click 'enter' to use timestamp as name...\"\n",
    "                    )\n",
    "                    save_name = input()\n",
    "                    if not save_name:\n",
    "                        save_name = f\"{datetime.today().isoformat()}\"\n",
    "\n",
    "                    result.save_as_json(save_dir / f\"{save_name}.json\")\n",
    "                    drawer.save_as_png(save_dir / f\"{save_name}.png\", result.mask)\n",
    "                    break\n",
    "                elif user_action.lower() == \"q\":\n",
    "                    raise KeyboardInterrupt\n",
    "        clear_output()\n",
    "\n",
    "display_tessellations(results, save_dir=SAVE_DIR)"
   ]
  },
  {
   "cell_type": "code",
   "execution_count": null,
   "id": "143c4760-493e-412b-a46a-1f1566e81edd",
   "metadata": {},
   "outputs": [],
   "source": []
  }
 ],
 "metadata": {
  "kernelspec": {
   "display_name": "Python 3 (ipykernel)",
   "language": "python",
   "name": "python3"
  },
  "language_info": {
   "codemirror_mode": {
    "name": "ipython",
    "version": 3
   },
   "file_extension": ".py",
   "mimetype": "text/x-python",
   "name": "python",
   "nbconvert_exporter": "python",
   "pygments_lexer": "ipython3",
   "version": "3.11.4"
  }
 },
 "nbformat": 4,
 "nbformat_minor": 5
}
