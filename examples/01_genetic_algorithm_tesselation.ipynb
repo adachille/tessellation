{
 "cells": [
  {
   "cell_type": "markdown",
   "id": "135fd008",
   "metadata": {},
   "source": [
    "# Genetic Algorithm Tessellation\n",
    "In this notebook, we'll use genetic algorithms to create tessellations!"
   ]
  },
  {
   "cell_type": "markdown",
   "id": "ac7b1111",
   "metadata": {},
   "source": [
    "## Setup"
   ]
  },
  {
   "cell_type": "code",
   "execution_count": 1,
   "id": "8824de5f",
   "metadata": {},
   "outputs": [],
   "source": [
    "%load_ext autoreload\n",
    "%autoreload 2\n",
    "\n",
    "import os\n",
    "os.chdir(\"..\") # Move execution to root dir"
   ]
  },
  {
   "cell_type": "code",
   "execution_count": 2,
   "id": "78914b74",
   "metadata": {},
   "outputs": [],
   "source": [
    "from enum import Enum, auto\n",
    "from typing import Callable, Iterator, Optional\n",
    "\n",
    "import numpy as np\n",
    "from matplotlib import pyplot as plt \n",
    "from leap_ec import ops, probe\n",
    "from leap_ec.algorithm import generational_ea\n",
    "from leap_ec.representation import Representation\n",
    "\n",
    "from tessellation.draw import MPLDrawer\n",
    "from tessellation.procgen.generator import ALL_ACTIONS, Action, Generator, GenerationResult\n",
    "from tessellation.procgen.ga.genome import TessellationDecoder\n",
    "from tessellation.procgen.ga import heuristic\n",
    "from tessellation.procgen.ga import mutate\n",
    "from tessellation.procgen.ga.problem import TessellationProblem, initialize_genome"
   ]
  },
  {
   "cell_type": "markdown",
   "id": "279f977f",
   "metadata": {},
   "source": [
    "## Configuration"
   ]
  },
  {
   "cell_type": "code",
   "execution_count": 3,
   "id": "e12fc97d",
   "metadata": {},
   "outputs": [],
   "source": [
    "# Proc gen constants\n",
    "SEED = 32\n",
    "SIDE_LEN = 100\n",
    "\n",
    "# Genetic Algorithm config\n",
    "SIDE_LEN = 100\n",
    "SUBSTITUTION_PROB, INSERTION_PROB, DELETION_PROB = 0.1, 0.1, 0.1\n",
    "POP_SIZE = 50\n",
    "MAX_GENERATIONS = 100\n",
    "ACTION_PROBS = np.ones(len(Action)) / len(Action)\n",
    "HEURISTIC_FNS = [\n",
    "    # lambda phenome:  heuristic.bottom_top_not_even_penalty(phenome, max_diff_before_penalty=20),\n",
    "    heuristic.duplicated_points_penalty,\n",
    "    lambda phenome: heuristic.out_of_bounds_penalty(phenome, SIDE_LEN),\n",
    "    heuristic.count_number_points_reward,\n",
    "    lambda phenome:  heuristic.bottom_top_even_reward(phenome, max_diff_before_reward=20),\n",
    "]\n",
    "FN_WEIGHTS = np.array([1, 0.2, 1, 1])\n",
    "\n",
    "# Draw config\n",
    "CMAP = \"gray\"\n",
    "drawer = MPLDrawer(CMAP)    "
   ]
  },
  {
   "cell_type": "markdown",
   "id": "6c034959",
   "metadata": {},
   "source": [
    "## Genetic Algorithm Tessellation\n",
    "We'll be using the LEAP package for our genetic algorithms."
   ]
  },
  {
   "cell_type": "code",
   "execution_count": 4,
   "id": "b8424802",
   "metadata": {
    "scrolled": true
   },
   "outputs": [
    {
     "name": "stdout",
     "output_type": "stream",
     "text": [
      "step,bsf\n",
      "0,269.6938654439528\n",
      "1,367.79905554969343\n",
      "2,367.79905554969343\n",
      "3,406.11676686542927\n",
      "4,446.8219797000692\n",
      "5,453.41479375611596\n",
      "6,462.6861300847827\n",
      "7,543.4997183571995\n",
      "8,618.7200303636304\n",
      "9,618.7200303636304\n",
      "10,625.4285352583626\n",
      "11,625.4285352583626\n",
      "12,625.4285352583626\n",
      "13,625.4285352583626\n",
      "14,625.4285352583626\n",
      "15,644.3249903197437\n",
      "16,655.3600000000001\n",
      "17,655.3600000000001\n",
      "18,655.3600000000001\n",
      "19,655.3600000000001\n",
      "20,655.3600000000001\n",
      "21,655.3600000000001\n",
      "22,655.3600000000001\n",
      "23,655.3600000000001\n",
      "24,655.3600000000001\n",
      "25,655.3600000000001\n",
      "26,655.3600000000001\n",
      "27,655.3600000000001\n",
      "28,655.3600000000001\n",
      "29,655.3600000000001\n",
      "30,655.3600000000001\n",
      "31,655.3600000000001\n",
      "32,655.3600000000001\n",
      "33,655.3600000000001\n",
      "34,655.3600000000001\n",
      "35,655.3600000000001\n",
      "36,655.3600000000001\n",
      "37,655.3600000000001\n",
      "38,655.3600000000001\n",
      "39,655.3600000000001\n",
      "40,655.3600000000001\n",
      "41,655.3600000000001\n",
      "42,655.3600000000001\n",
      "43,655.3600000000001\n",
      "44,655.3600000000001\n",
      "45,655.3600000000001\n",
      "46,655.3600000000001\n",
      "47,655.3600000000001\n",
      "48,655.3600000000001\n",
      "49,655.3600000000001\n",
      "50,655.3600000000001\n",
      "51,655.3600000000001\n",
      "52,655.3600000000001\n",
      "53,655.3600000000001\n",
      "54,655.3600000000001\n",
      "55,655.3600000000001\n",
      "56,655.3600000000001\n",
      "57,655.3600000000001\n",
      "58,655.3600000000001\n",
      "59,655.3600000000001\n",
      "60,655.3600000000001\n",
      "61,655.3600000000001\n",
      "62,655.3600000000001\n",
      "63,655.3600000000001\n",
      "64,655.3600000000001\n",
      "65,655.3600000000001\n",
      "66,655.3600000000001\n",
      "67,655.3600000000001\n",
      "68,655.3600000000001\n",
      "69,655.3600000000001\n",
      "70,655.3600000000001\n",
      "71,655.3600000000001\n",
      "72,655.3600000000001\n",
      "73,655.3600000000001\n",
      "74,655.3600000000001\n",
      "75,655.3600000000001\n",
      "76,655.3600000000001\n",
      "77,655.3600000000001\n",
      "78,655.3600000000001\n",
      "79,655.3600000000001\n",
      "80,655.3600000000001\n",
      "81,655.3600000000001\n",
      "82,655.3600000000001\n",
      "83,655.3600000000001\n",
      "84,655.3600000000001\n",
      "85,655.3600000000001\n",
      "86,655.3600000000001\n",
      "87,655.3600000000001\n",
      "88,655.3600000000001\n",
      "89,655.3600000000001\n",
      "90,655.3600000000001\n",
      "91,655.3600000000001\n",
      "92,655.3600000000001\n",
      "93,655.3600000000001\n",
      "94,655.3600000000001\n",
      "95,655.3600000000001\n",
      "96,655.3600000000001\n",
      "97,655.3600000000001\n",
      "98,655.3600000000001\n",
      "99,655.3600000000001\n"
     ]
    },
    {
     "data": {
      "text/plain": [
       "array([5.12, 5.12, 5.12, 5.12, 5.12])"
      ]
     },
     "execution_count": 4,
     "metadata": {},
     "output_type": "execute_result"
    }
   ],
   "source": [
    "from leap_ec.simple import ea_solve\n",
    "\n",
    "def f(x):\n",
    "    \"\"\"A real-valued function to optimized.\"\"\"\n",
    "    return sum(x)**2\n",
    "\n",
    "ea_solve(f, bounds=[(-5.12, 5.12) for _ in range(5)], maximize=True)"
   ]
  },
  {
   "cell_type": "markdown",
   "id": "251ab098-2dba-48ca-b86b-2c848ae8ddfb",
   "metadata": {},
   "source": [
    "### Define Problem and Representation"
   ]
  },
  {
   "cell_type": "code",
   "execution_count": 5,
   "id": "e31c5d39-f2e7-4636-9b29-02a40a245f12",
   "metadata": {},
   "outputs": [],
   "source": [
    "problem = TessellationProblem(\n",
    "    heuristic_fns=HEURISTIC_FNS, \n",
    "    fn_weights=FN_WEIGHTS, \n",
    "    side_len=SIDE_LEN\n",
    ")\n",
    "\n",
    "representation = Representation(\n",
    "    decoder=TessellationDecoder(),\n",
    "    initialize=lambda: initialize_genome(problem) \n",
    ")"
   ]
  },
  {
   "cell_type": "markdown",
   "id": "c9839c60-7757-415f-983c-2da49d596791",
   "metadata": {},
   "source": [
    "### Evolve!"
   ]
  },
  {
   "cell_type": "code",
   "execution_count": 6,
   "id": "d527f83a-e71f-4e1a-81fe-c02641857e06",
   "metadata": {
    "scrolled": true
   },
   "outputs": [
    {
     "name": "stdout",
     "output_type": "stream",
     "text": [
      "step,bsf\n",
      "0,110.0\n",
      "1,126.0\n",
      "2,126.0\n",
      "3,126.0\n",
      "4,131.0\n",
      "5,134.0\n",
      "6,134.0\n",
      "7,134.0\n",
      "8,135.0\n",
      "9,136.0\n",
      "10,136.0\n",
      "11,137.0\n",
      "12,140.0\n",
      "13,144.0\n",
      "14,146.0\n",
      "15,147.0\n",
      "16,155.0\n",
      "17,160.0\n",
      "18,160.0\n",
      "19,160.0\n",
      "20,161.0\n",
      "21,161.0\n",
      "22,166.0\n",
      "23,166.0\n",
      "24,166.0\n",
      "25,166.0\n",
      "26,166.0\n",
      "27,166.0\n",
      "28,166.0\n",
      "29,166.0\n",
      "30,166.0\n",
      "31,173.0\n",
      "32,173.0\n",
      "33,173.0\n",
      "34,173.0\n",
      "35,173.0\n",
      "36,173.0\n",
      "37,173.0\n",
      "38,173.0\n",
      "39,184.0\n",
      "40,184.0\n",
      "41,184.0\n",
      "42,184.0\n",
      "43,184.0\n",
      "44,184.0\n",
      "45,184.0\n",
      "46,184.0\n",
      "47,184.0\n",
      "48,184.0\n",
      "49,184.0\n",
      "50,184.0\n",
      "51,184.0\n",
      "52,184.0\n",
      "53,184.0\n",
      "54,184.0\n",
      "55,184.0\n",
      "56,184.0\n",
      "57,184.0\n",
      "58,184.0\n",
      "59,184.0\n",
      "60,184.0\n",
      "61,184.0\n",
      "62,184.0\n",
      "63,184.0\n",
      "64,184.0\n",
      "65,184.0\n",
      "66,184.0\n",
      "67,184.0\n",
      "68,184.0\n",
      "69,184.0\n",
      "70,184.0\n",
      "71,184.0\n",
      "72,184.0\n",
      "73,184.0\n",
      "74,184.0\n",
      "75,184.0\n",
      "76,184.0\n",
      "77,184.0\n",
      "78,184.0\n",
      "79,184.0\n",
      "80,184.0\n",
      "81,184.0\n",
      "82,184.0\n",
      "83,184.0\n",
      "84,184.0\n",
      "85,184.0\n",
      "86,184.0\n",
      "87,184.0\n",
      "88,184.0\n",
      "89,184.0\n",
      "90,184.0\n",
      "91,184.0\n",
      "92,184.0\n",
      "93,184.0\n",
      "94,184.0\n",
      "95,184.0\n",
      "96,184.0\n",
      "97,184.0\n",
      "98,184.0\n",
      "99,184.0\n"
     ]
    }
   ],
   "source": [
    "final_pop = generational_ea(\n",
    "    max_generations=MAX_GENERATIONS, \n",
    "    pop_size=POP_SIZE,\n",
    "    problem=problem,\n",
    "    representation=representation,\n",
    "\n",
    "    # The operator pipeline\n",
    "    pipeline=[\n",
    "        # Select parents via tournament_selection selection\n",
    "        ops.tournament_selection,\n",
    "        \n",
    "        ops.clone,  # Copy them (just to be safe)\n",
    "        lambda individual_iterator: mutate.apply_mutation(\n",
    "            mutate.substitute_action, individual_iterator, fn_kwargs={\"action_probs\": ACTION_PROBS}\n",
    "        ),\n",
    "        lambda individual_iterator: mutate.apply_mutation(\n",
    "            mutate.insert_action, individual_iterator, fn_kwargs={\"action_probs\": ACTION_PROBS}\n",
    "        ),\n",
    "        lambda individual_iterator: mutate.apply_mutation(mutate.delete_action, individual_iterator),\n",
    "        \n",
    "        # Crossover with a 40% chance of swapping each gene\n",
    "        # ops.UniformCrossover(p_swap=0.4),\n",
    "        \n",
    "        ops.evaluate,  # Evaluate fitness\n",
    "        \n",
    "        # Collect offspring into a new population\n",
    "        ops.pool(size=POP_SIZE),\n",
    "        \n",
    "        probe.BestSoFarProbe()  # Print the BSF\n",
    "    ]\n",
    ")"
   ]
  },
  {
   "cell_type": "markdown",
   "id": "219545c7-2f7d-43f0-a711-02592ef12f96",
   "metadata": {},
   "source": [
    "## Evaluate"
   ]
  },
  {
   "cell_type": "code",
   "execution_count": null,
   "id": "62b5a613-089d-4822-a737-97aa2d2c40ce",
   "metadata": {},
   "outputs": [
    {
     "name": "stdout",
     "output_type": "stream",
     "text": [
      "Individual: 7; Fitness: 156.0\n"
     ]
    },
    {
     "data": {
      "image/png": "[encoded data removed]",
      "text/plain": [
       "<Figure size 640x480 with 1 Axes>"
      ]
     },
     "metadata": {},
     "output_type": "display_data"
    },
    {
     "name": "stdout",
     "output_type": "stream",
     "text": [
      "Press 'q' to quit, anything else to continue...\n"
     ]
    }
   ],
   "source": [
    "from IPython.display import clear_output\n",
    "\n",
    "decoder = TessellationDecoder()\n",
    "show = True\n",
    "for idx, individual in enumerate(final_pop):\n",
    "    genome = individual.genome\n",
    "    phenome = decoder.decode(genome)\n",
    "    print(f\"Individual: {idx}; Fitness: {problem.evaluate(phenome)}\")\n",
    "    \n",
    "    mask = np.zeros((SIDE_LEN, SIDE_LEN), dtype=int)\n",
    "    mask = Generator._draw_line(mask, genome.start_point, genome.actions)\n",
    "    mask_T = Generator._draw_line(mask.T, genome.start_point, genome.actions)\n",
    "    final_mask = mask | mask_T\n",
    "    \n",
    "    result = GenerationResult(final_mask, [genome.actions, genome.actions])\n",
    "    tessellation = Generator.tessellate(result)\n",
    "    \n",
    "    drawer.draw(tessellation)\n",
    "    if show:\n",
    "        plt.show()\n",
    "        print(\"Press 'q' to quit, anything else to continue...\")\n",
    "        user_action = input()\n",
    "        \n",
    "    \n",
    "        if user_action.lower() == \"q\":\n",
    "            break\n",
    "        clear_output()\n",
    "    "
   ]
  },
  {
   "cell_type": "code",
   "execution_count": null,
   "id": "143c4760-493e-412b-a46a-1f1566e81edd",
   "metadata": {},
   "outputs": [],
   "source": []
  }
 ],
 "metadata": {
  "kernelspec": {
   "display_name": "Python 3 (ipykernel)",
   "language": "python",
   "name": "python3"
  },
  "language_info": {
   "codemirror_mode": {
    "name": "ipython",
    "version": 3
   },
   "file_extension": ".py",
   "mimetype": "text/x-python",
   "name": "python",
   "nbconvert_exporter": "python",
   "pygments_lexer": "ipython3",
   "version": "3.12.4"
  }
 },
 "nbformat": 4,
 "nbformat_minor": 5
}
