{
 "cells": [
  {
   "cell_type": "markdown",
   "id": "135fd008",
   "metadata": {},
   "source": [
    "# Genetic Algorithm Tessellation\n",
    "In this notebook, we'll use genetic algorithms to create tessellations!"
   ]
  },
  {
   "cell_type": "markdown",
   "id": "ac7b1111",
   "metadata": {},
   "source": [
    "## Setup"
   ]
  },
  {
   "cell_type": "code",
   "execution_count": 1,
   "id": "8824de5f",
   "metadata": {},
   "outputs": [],
   "source": [
    "%load_ext autoreload\n",
    "%autoreload 2\n",
    "\n",
    "import os\n",
    "os.chdir(\"..\") # Move execution to root dir"
   ]
  },
  {
   "cell_type": "code",
   "execution_count": 2,
   "id": "78914b74",
   "metadata": {},
   "outputs": [],
   "source": [
    "from enum import Enum, auto\n",
    "from typing import Optional\n",
    "\n",
    "import numpy as np\n",
    "from matplotlib import pyplot as plt \n",
    "\n",
    "from tessellation.draw import MPLDrawer\n",
    "from tessellation.procgen.generator import Action\n",
    "from tessellation.procgen.rng_generator import RNGGenerator"
   ]
  },
  {
   "cell_type": "markdown",
   "id": "279f977f",
   "metadata": {},
   "source": [
    "## Configuration"
   ]
  },
  {
   "cell_type": "code",
   "execution_count": 3,
   "id": "e12fc97d",
   "metadata": {},
   "outputs": [],
   "source": [
    "# Proc gen constants\n",
    "SEED = 32\n",
    "SIDE_LEN = 100"
   ]
  },
  {
   "cell_type": "code",
   "execution_count": 4,
   "id": "bcea91c1",
   "metadata": {},
   "outputs": [
    {
     "data": {
      "image/png": "[encoded data removed]",
      "text/plain": [
       "<Figure size 640x480 with 1 Axes>"
      ]
     },
     "metadata": {},
     "output_type": "display_data"
    }
   ],
   "source": [
    "# Draw constants\n",
    "CMAP = \"gray\"\n",
    "drawer = MPLDrawer(CMAP)\n",
    "drawer.draw(np.zeros((SIDE_LEN, SIDE_LEN), dtype=int))"
   ]
  },
  {
   "cell_type": "markdown",
   "id": "6c034959",
   "metadata": {},
   "source": [
    "## Genetic Algorithm Tessellation\n",
    "We'll be using the LEAP package for our genetic algorithms."
   ]
  },
  {
   "cell_type": "markdown",
   "id": "4febc863",
   "metadata": {},
   "source": [
    "### Simple test\n",
    "Let's start by trying out the simplest form of GA - simple real-valued function optimization."
   ]
  },
  {
   "cell_type": "code",
   "execution_count": 5,
   "id": "b8424802",
   "metadata": {
    "scrolled": true
   },
   "outputs": [
    {
     "name": "stdout",
     "output_type": "stream",
     "text": [
      "step,bsf\n",
      "0,90.04040597047805\n",
      "1,165.08465299688828\n",
      "2,165.08465299688828\n",
      "3,176.25694437010876\n",
      "4,221.5851233490782\n",
      "5,257.0324365983946\n",
      "6,257.0324365983946\n",
      "7,259.81799798776905\n",
      "8,277.2240440547901\n",
      "9,291.09626322505557\n",
      "10,291.09626322505557\n",
      "11,291.09626322505557\n",
      "12,343.6540610967981\n",
      "13,355.074998131774\n",
      "14,355.074998131774\n",
      "15,423.84787583883275\n",
      "16,423.84787583883275\n",
      "17,423.84787583883275\n",
      "18,423.84787583883275\n",
      "19,423.84787583883275\n",
      "20,444.3616087799155\n",
      "21,547.6091507967454\n",
      "22,547.6091507967454\n",
      "23,591.3688188343338\n",
      "24,591.3688188343338\n",
      "25,655.3600000000001\n",
      "26,655.3600000000001\n",
      "27,655.3600000000001\n",
      "28,655.3600000000001\n",
      "29,655.3600000000001\n",
      "30,655.3600000000001\n",
      "31,655.3600000000001\n",
      "32,655.3600000000001\n",
      "33,655.3600000000001\n",
      "34,655.3600000000001\n",
      "35,655.3600000000001\n",
      "36,655.3600000000001\n",
      "37,655.3600000000001\n",
      "38,655.3600000000001\n",
      "39,655.3600000000001\n",
      "40,655.3600000000001\n",
      "41,655.3600000000001\n",
      "42,655.3600000000001\n",
      "43,655.3600000000001\n",
      "44,655.3600000000001\n",
      "45,655.3600000000001\n",
      "46,655.3600000000001\n",
      "47,655.3600000000001\n",
      "48,655.3600000000001\n",
      "49,655.3600000000001\n",
      "50,655.3600000000001\n",
      "51,655.3600000000001\n",
      "52,655.3600000000001\n",
      "53,655.3600000000001\n",
      "54,655.3600000000001\n",
      "55,655.3600000000001\n",
      "56,655.3600000000001\n",
      "57,655.3600000000001\n",
      "58,655.3600000000001\n",
      "59,655.3600000000001\n",
      "60,655.3600000000001\n",
      "61,655.3600000000001\n",
      "62,655.3600000000001\n",
      "63,655.3600000000001\n",
      "64,655.3600000000001\n",
      "65,655.3600000000001\n",
      "66,655.3600000000001\n",
      "67,655.3600000000001\n",
      "68,655.3600000000001\n",
      "69,655.3600000000001\n",
      "70,655.3600000000001\n",
      "71,655.3600000000001\n",
      "72,655.3600000000001\n",
      "73,655.3600000000001\n",
      "74,655.3600000000001\n",
      "75,655.3600000000001\n",
      "76,655.3600000000001\n",
      "77,655.3600000000001\n",
      "78,655.3600000000001\n",
      "79,655.3600000000001\n",
      "80,655.3600000000001\n",
      "81,655.3600000000001\n",
      "82,655.3600000000001\n",
      "83,655.3600000000001\n",
      "84,655.3600000000001\n",
      "85,655.3600000000001\n",
      "86,655.3600000000001\n",
      "87,655.3600000000001\n",
      "88,655.3600000000001\n",
      "89,655.3600000000001\n",
      "90,655.3600000000001\n",
      "91,655.3600000000001\n",
      "92,655.3600000000001\n",
      "93,655.3600000000001\n",
      "94,655.3600000000001\n",
      "95,655.3600000000001\n",
      "96,655.3600000000001\n",
      "97,655.3600000000001\n",
      "98,655.3600000000001\n",
      "99,655.3600000000001\n"
     ]
    },
    {
     "data": {
      "text/plain": [
       "array([-5.12, -5.12, -5.12, -5.12, -5.12])"
      ]
     },
     "execution_count": 5,
     "metadata": {},
     "output_type": "execute_result"
    }
   ],
   "source": [
    "from leap_ec.simple import ea_solve\n",
    "\n",
    "def f(x):\n",
    "    \"\"\"A real-valued function to optimized.\"\"\"\n",
    "    return sum(x)**2\n",
    "\n",
    "ea_solve(f, bounds=[(-5.12, 5.12) for _ in range(5)], maximize=True)"
   ]
  },
  {
   "cell_type": "code",
   "execution_count": 6,
   "id": "a919cfe6-3046-4bfd-a37d-c0074e207942",
   "metadata": {},
   "outputs": [
    {
     "ename": "ModuleNotFoundError",
     "evalue": "No module named 'leap_ec.Problem'",
     "output_type": "error",
     "traceback": [
      "\u001b[0;31m---------------------------------------------------------------------------\u001b[0m",
      "\u001b[0;31mModuleNotFoundError\u001b[0m                       Traceback (most recent call last)",
      "Cell \u001b[0;32mIn[6], line 6\u001b[0m\n\u001b[1;32m      4\u001b[0m \u001b[38;5;28;01mfrom\u001b[39;00m \u001b[38;5;21;01mleap_ec\u001b[39;00m\u001b[38;5;21;01m.\u001b[39;00m\u001b[38;5;21;01mbinary_rep\u001b[39;00m \u001b[38;5;28;01mimport\u001b[39;00m problems\n\u001b[1;32m      5\u001b[0m \u001b[38;5;28;01mfrom\u001b[39;00m \u001b[38;5;21;01mleap_ec\u001b[39;00m\u001b[38;5;21;01m.\u001b[39;00m\u001b[38;5;21;01mbinary_rep\u001b[39;00m\u001b[38;5;21;01m.\u001b[39;00m\u001b[38;5;21;01mops\u001b[39;00m \u001b[38;5;28;01mimport\u001b[39;00m mutate_bitflip\n\u001b[0;32m----> 6\u001b[0m \u001b[38;5;28;01mfrom\u001b[39;00m \u001b[38;5;21;01mleap_ec\u001b[39;00m\u001b[38;5;21;01m.\u001b[39;00m\u001b[38;5;21;01mProblem\u001b[39;00m \u001b[38;5;28;01mimport\u001b[39;00m problem\n",
      "\u001b[0;31mModuleNotFoundError\u001b[0m: No module named 'leap_ec.Problem'"
     ]
    }
   ],
   "source": [
    "from leap_ec.algorithm import generational_ea\n",
    "from leap_ec import ops, decoder, probe, representation\n",
    "from leap_ec.binary_rep import initializers\n",
    "from leap_ec.binary_rep import problems\n",
    "from leap_ec.binary_rep.ops import mutate_bitflip\n",
    "from leap_ec.Problem import problem"
   ]
  },
  {
   "cell_type": "code",
   "execution_count": null,
   "id": "418ed145-93ba-4de7-87a4-4747a3b985dd",
   "metadata": {},
   "outputs": [],
   "source": [
    "class TessellationPhenome:\n",
    "    def __init__(self, actions: list[Action]):\n",
    "        "
   ]
  },
  {
   "cell_type": "code",
   "execution_count": null,
   "id": "3af697a2-1a2e-4bb0-ae1a-e733ef751f77",
   "metadata": {},
   "outputs": [],
   "source": [
    "class TessellationProblem(Problem):\n",
    "    def evaluate(phenome: )"
   ]
  },
  {
   "cell_type": "code",
   "execution_count": null,
   "id": "fcbf02ae-b9ff-44b3-8f53-cf35ea9923c3",
   "metadata": {},
   "outputs": [],
   "source": [
    "representation = representation.Representation(\n",
    "    # Genotype and phenotype are the same for this task\n",
    "    decoder=decoder.IdentityDecoder(),\n",
    "    # Initial genomes are random binary sequences\n",
    "    initialize=initializers.create_binary_sequence(length=10)\n",
    "),"
   ]
  },
  {
   "cell_type": "code",
   "execution_count": null,
   "id": "d527f83a-e71f-4e1a-81fe-c02641857e06",
   "metadata": {},
   "outputs": [],
   "source": [
    "\n",
    "\n",
    "pop_size = 5\n",
    "final_pop = generational_ea(max_generations=10, pop_size=pop_size,\n",
    "\n",
    "                            # Solve a MaxOnes Boolean optimization problem\n",
    "                            problem=problems.MaxOnes(),\n",
    "\n",
    "                            representation=representation.Representation(\n",
    "                                # Genotype and phenotype are the same for this task\n",
    "                                decoder=decoder.IdentityDecoder(),\n",
    "                                # Initial genomes are random binary sequences\n",
    "                                initialize=initializers.create_binary_sequence(length=10)\n",
    "                            ),\n",
    "\n",
    "                            # The operator pipeline\n",
    "                            pipeline=[\n",
    "                                    # Select parents via tournament_selection selection\n",
    "                                    ops.tournament_selection,\n",
    "                                    ops.clone,  # Copy them (just to be safe)\n",
    "                                    # Basic mutation with a 1/L mutation rate\n",
    "                                    mutate_bitflip(expected_num_mutations=1),\n",
    "                                    # Crossover with a 40% chance of swapping each gene\n",
    "                                    ops.UniformCrossover(p_swap=0.4),\n",
    "                                    ops.evaluate,  # Evaluate fitness\n",
    "                                    # Collect offspring into a new population\n",
    "                                    ops.pool(size=pop_size),\n",
    "                                    probe.BestSoFarProbe()  # Print the BSF\n",
    "                                    ])"
   ]
  },
  {
   "cell_type": "code",
   "execution_count": null,
   "id": "e2ee5d04-42b5-46b9-bd3b-20b8d02a8948",
   "metadata": {},
   "outputs": [],
   "source": []
  }
 ],
 "metadata": {
  "kernelspec": {
   "display_name": "Python 3 (ipykernel)",
   "language": "python",
   "name": "python3"
  },
  "language_info": {
   "codemirror_mode": {
    "name": "ipython",
    "version": 3
   },
   "file_extension": ".py",
   "mimetype": "text/x-python",
   "name": "python",
   "nbconvert_exporter": "python",
   "pygments_lexer": "ipython3",
   "version": "3.11.4"
  }
 },
 "nbformat": 4,
 "nbformat_minor": 5
}
