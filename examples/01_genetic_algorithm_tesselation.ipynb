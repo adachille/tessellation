{
 "cells": [
  {
   "cell_type": "markdown",
   "id": "135fd008",
   "metadata": {},
   "source": [
    "# Genetic Algorithm Tessellation\n",
    "In this notebook, we'll use genetic algorithms to create tessellations!"
   ]
  },
  {
   "cell_type": "markdown",
   "id": "ac7b1111",
   "metadata": {},
   "source": [
    "## Setup"
   ]
  },
  {
   "cell_type": "code",
   "execution_count": 1,
   "id": "8824de5f",
   "metadata": {},
   "outputs": [],
   "source": [
    "%load_ext autoreload\n",
    "%autoreload 2\n",
    "\n",
    "import os\n",
    "os.chdir(\"..\") # Move execution to root dir"
   ]
  },
  {
   "cell_type": "code",
   "execution_count": 19,
   "id": "78914b74",
   "metadata": {},
   "outputs": [],
   "source": [
    "from enum import Enum, auto\n",
    "from typing import Callable, Iterator, Optional\n",
    "\n",
    "import numpy as np\n",
    "from matplotlib import pyplot as plt \n",
    "from leap_ec import ops, probe\n",
    "from leap_ec.algorithm import generational_ea\n",
    "from leap_ec.representation import Representation\n",
    "\n",
    "from tessellation.draw import MPLDrawer\n",
    "from tessellation.procgen.generator import ALL_ACTIONS, Action, Generator \n",
    "from tessellation.procgen.ga.genome import TessellationDecoder\n",
    "from tessellation.procgen.ga.heuristics import count_number_points_heuristic\n",
    "from tessellation.procgen.ga.mutate import apply_mutation, substitute_action, insert_action, delete_action\n",
    "from tessellation.procgen.ga.problem import TessellationProblem, initialize_genome"
   ]
  },
  {
   "cell_type": "markdown",
   "id": "279f977f",
   "metadata": {},
   "source": [
    "## Configuration"
   ]
  },
  {
   "cell_type": "code",
   "execution_count": 8,
   "id": "e12fc97d",
   "metadata": {},
   "outputs": [],
   "source": [
    "# Proc gen constants\n",
    "SEED = 32\n",
    "SIDE_LEN = 100\n",
    "\n",
    "# Genetic Algorithm config\n",
    "SIDE_LEN = 100\n",
    "SUBSTITUTION_PROB, INSERTION_PROB, DELETION_PROB = 0.1, 0.1, 0.1\n",
    "POP_SIZE = 10\n",
    "MAX_GENERATIONS = 20\n",
    "\n",
    "# Draw config\n",
    "CMAP = \"gray\"\n",
    "drawer = MPLDrawer(CMAP)    "
   ]
  },
  {
   "cell_type": "markdown",
   "id": "6c034959",
   "metadata": {},
   "source": [
    "## Genetic Algorithm Tessellation\n",
    "We'll be using the LEAP package for our genetic algorithms."
   ]
  },
  {
   "cell_type": "markdown",
   "id": "4febc863",
   "metadata": {},
   "source": [
    "### Simple test\n",
    "Let's start by trying out the simplest form of GA - simple real-valued function optimization."
   ]
  },
  {
   "cell_type": "code",
   "execution_count": 4,
   "id": "b8424802",
   "metadata": {
    "scrolled": true
   },
   "outputs": [
    {
     "name": "stdout",
     "output_type": "stream",
     "text": [
      "step,bsf\n",
      "0,235.96881799710386\n",
      "1,314.6478976795169\n",
      "2,332.10627982011357\n",
      "3,425.1559436491242\n",
      "4,425.1559436491242\n",
      "5,425.1559436491242\n",
      "6,425.1559436491242\n",
      "7,460.96525938761755\n",
      "8,510.5938606062562\n",
      "9,549.338808136687\n",
      "10,549.338808136687\n",
      "11,549.338808136687\n",
      "12,598.348566248481\n",
      "13,633.4864072240405\n",
      "14,633.4864072240405\n",
      "15,633.4864072240405\n",
      "16,633.4864072240405\n",
      "17,633.4864072240405\n",
      "18,633.4864072240405\n",
      "19,633.4864072240405\n",
      "20,633.4864072240405\n",
      "21,637.790966519123\n",
      "22,637.790966519123\n",
      "23,637.790966519123\n",
      "24,637.790966519123\n",
      "25,637.790966519123\n",
      "26,645.5270107921353\n",
      "27,645.5270107921353\n",
      "28,654.1006608316977\n",
      "29,654.1006608316977\n",
      "30,654.1006608316977\n",
      "31,654.1006608316977\n",
      "32,654.1006608316977\n",
      "33,654.1006608316977\n",
      "34,654.1006608316977\n",
      "35,654.1006608316977\n",
      "36,654.1006608316977\n",
      "37,654.1006608316977\n",
      "38,654.1006608316977\n",
      "39,654.1006608316977\n",
      "40,654.1006608316977\n",
      "41,654.1006608316977\n",
      "42,654.1006608316977\n",
      "43,654.1006608316977\n",
      "44,654.1006608316977\n",
      "45,654.1006608316977\n",
      "46,654.1006608316977\n",
      "47,654.1006608316977\n",
      "48,654.1006608316977\n",
      "49,654.1006608316977\n",
      "50,654.1006608316977\n",
      "51,654.1006608316977\n",
      "52,655.3600000000001\n",
      "53,655.3600000000001\n",
      "54,655.3600000000001\n",
      "55,655.3600000000001\n",
      "56,655.3600000000001\n",
      "57,655.3600000000001\n",
      "58,655.3600000000001\n",
      "59,655.3600000000001\n",
      "60,655.3600000000001\n",
      "61,655.3600000000001\n",
      "62,655.3600000000001\n",
      "63,655.3600000000001\n",
      "64,655.3600000000001\n",
      "65,655.3600000000001\n",
      "66,655.3600000000001\n",
      "67,655.3600000000001\n",
      "68,655.3600000000001\n",
      "69,655.3600000000001\n",
      "70,655.3600000000001\n",
      "71,655.3600000000001\n",
      "72,655.3600000000001\n",
      "73,655.3600000000001\n",
      "74,655.3600000000001\n",
      "75,655.3600000000001\n",
      "76,655.3600000000001\n",
      "77,655.3600000000001\n",
      "78,655.3600000000001\n",
      "79,655.3600000000001\n",
      "80,655.3600000000001\n",
      "81,655.3600000000001\n",
      "82,655.3600000000001\n",
      "83,655.3600000000001\n",
      "84,655.3600000000001\n",
      "85,655.3600000000001\n",
      "86,655.3600000000001\n",
      "87,655.3600000000001\n",
      "88,655.3600000000001\n",
      "89,655.3600000000001\n",
      "90,655.3600000000001\n",
      "91,655.3600000000001\n",
      "92,655.3600000000001\n",
      "93,655.3600000000001\n",
      "94,655.3600000000001\n",
      "95,655.3600000000001\n",
      "96,655.3600000000001\n",
      "97,655.3600000000001\n",
      "98,655.3600000000001\n",
      "99,655.3600000000001\n"
     ]
    },
    {
     "data": {
      "text/plain": [
       "array([-5.12, -5.12, -5.12, -5.12, -5.12])"
      ]
     },
     "execution_count": 4,
     "metadata": {},
     "output_type": "execute_result"
    }
   ],
   "source": [
    "from leap_ec.simple import ea_solve\n",
    "\n",
    "def f(x):\n",
    "    \"\"\"A real-valued function to optimized.\"\"\"\n",
    "    return sum(x)**2\n",
    "\n",
    "ea_solve(f, bounds=[(-5.12, 5.12) for _ in range(5)], maximize=True)"
   ]
  },
  {
   "cell_type": "markdown",
   "id": "251ab098-2dba-48ca-b86b-2c848ae8ddfb",
   "metadata": {},
   "source": [
    "### Build out Genetic Algorithm"
   ]
  },
  {
   "cell_type": "code",
   "execution_count": 9,
   "id": "e31c5d39-f2e7-4636-9b29-02a40a245f12",
   "metadata": {},
   "outputs": [],
   "source": [
    "problem = TessellationProblem(\n",
    "    heuristic_fns=[count_number_points_heuristic], side_len=SIDE_LEN\n",
    ")\n",
    "\n",
    "representation = Representation(\n",
    "    decoder=TessellationDecoder(),\n",
    "    initialize=lambda: initialize_genome(problem) \n",
    ")\n",
    "mutator = Mutator(\n",
    "    substitution_prob=SUBSTITUTION_PROB,\n",
    "    insertion_prob=INSERTION_PROB,\n",
    "    deletion_prob=DELETION_PROB,\n",
    ")"
   ]
  },
  {
   "cell_type": "code",
   "execution_count": 20,
   "id": "d527f83a-e71f-4e1a-81fe-c02641857e06",
   "metadata": {},
   "outputs": [
    {
     "name": "stdout",
     "output_type": "stream",
     "text": [
      "step,bsf\n",
      "0,[104.]\n",
      "1,[105.]\n",
      "2,[105.]\n",
      "3,[109.]\n",
      "4,[109.]\n",
      "5,[112.]\n",
      "6,[115.]\n",
      "7,[116.]\n",
      "8,[120.]\n",
      "9,[120.]\n",
      "10,[120.]\n",
      "11,[127.]\n",
      "12,[128.]\n",
      "13,[128.]\n",
      "14,[129.]\n",
      "15,[129.]\n",
      "16,[136.]\n",
      "17,[136.]\n",
      "18,[139.]\n",
      "19,[141.]\n"
     ]
    }
   ],
   "source": [
    "final_pop = generational_ea(\n",
    "    max_generations=MAX_GENERATIONS, \n",
    "    pop_size=POP_SIZE,\n",
    "    problem=problem,\n",
    "    representation=representation,\n",
    "\n",
    "    # The operator pipeline\n",
    "    pipeline=[\n",
    "        # Select parents via tournament_selection selection\n",
    "        ops.tournament_selection,\n",
    "        \n",
    "        ops.clone,  # Copy them (just to be safe)\n",
    "        \n",
    "        lambda individual_iterator: mutator.apply_mutation(mutator.substitute_action, individual_iterator),\n",
    "        lambda individual_iterator: mutator.apply_mutation(mutator.insert_action, individual_iterator),\n",
    "        lambda individual_iterator: mutator.apply_mutation(mutator.delete_action, individual_iterator),\n",
    "        \n",
    "        # Crossover with a 40% chance of swapping each gene\n",
    "        # ops.UniformCrossover(p_swap=0.4),\n",
    "        \n",
    "        ops.evaluate,  # Evaluate fitness\n",
    "        \n",
    "        # Collect offspring into a new population\n",
    "        ops.pool(size=POP_SIZE),\n",
    "        \n",
    "        probe.BestSoFarProbe()  # Print the BSF\n",
    "    ]\n",
    ")"
   ]
  },
  {
   "cell_type": "code",
   "execution_count": null,
   "id": "62b5a613-089d-4822-a737-97aa2d2c40ce",
   "metadata": {},
   "outputs": [
    {
     "data": {
      "image/png": "[encoded data removed]",
      "text/plain": [
       "<Figure size 640x480 with 1 Axes>"
      ]
     },
     "metadata": {},
     "output_type": "display_data"
    },
    {
     "name": "stdout",
     "output_type": "stream",
     "text": [
      "Press 'q' to quit, anything else to continue...\n"
     ]
    }
   ],
   "source": [
    "from IPython.display import clear_output\n",
    "\n",
    "for individual in final_pop:\n",
    "    genome = individual.genome\n",
    "    mask = np.zeros((SIDE_LEN, SIDE_LEN))\n",
    "    mask = Generator._draw_line(mask, genome.start_point, genome.actions)\n",
    "\n",
    "    drawer.draw(mask)\n",
    "    plt.show()\n",
    "    print(\"Press 'q' to quit, anything else to continue...\")\n",
    "    user_action = input()\n",
    "    \n",
    "\n",
    "    if user_action.lower() == \"q\":\n",
    "        break\n",
    "    clear_output()\n",
    "    "
   ]
  },
  {
   "cell_type": "code",
   "execution_count": null,
   "id": "143c4760-493e-412b-a46a-1f1566e81edd",
   "metadata": {},
   "outputs": [],
   "source": []
  }
 ],
 "metadata": {
  "kernelspec": {
   "display_name": "Python 3 (ipykernel)",
   "language": "python",
   "name": "python3"
  },
  "language_info": {
   "codemirror_mode": {
    "name": "ipython",
    "version": 3
   },
   "file_extension": ".py",
   "mimetype": "text/x-python",
   "name": "python",
   "nbconvert_exporter": "python",
   "pygments_lexer": "ipython3",
   "version": "3.11.4"
  }
 },
 "nbformat": 4,
 "nbformat_minor": 5
}
