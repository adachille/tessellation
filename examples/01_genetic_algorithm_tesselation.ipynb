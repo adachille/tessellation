{
 "cells": [
  {
   "cell_type": "markdown",
   "id": "135fd008",
   "metadata": {},
   "source": [
    "# Genetic Algorithm Tessellation\n",
    "In this notebook, we'll use genetic algorithms to create tessellations!"
   ]
  },
  {
   "cell_type": "markdown",
   "id": "ac7b1111",
   "metadata": {},
   "source": [
    "## Setup"
   ]
  },
  {
   "cell_type": "code",
   "execution_count": 1,
   "id": "8824de5f",
   "metadata": {},
   "outputs": [],
   "source": [
    "%load_ext autoreload\n",
    "%autoreload 2\n",
    "\n",
    "import os\n",
    "os.chdir(\"..\") # Move execution to root dir"
   ]
  },
  {
   "cell_type": "code",
   "execution_count": 2,
   "id": "78914b74",
   "metadata": {},
   "outputs": [],
   "source": [
    "from datetime import datetime\n",
    "from enum import Enum, auto\n",
    "from pathlib import Path\n",
    "from typing import Callable, Iterator, Optional\n",
    "\n",
    "import numpy as np\n",
    "from matplotlib import pyplot as plt \n",
    "from leap_ec import ops, probe\n",
    "from leap_ec.algorithm import generational_ea\n",
    "from leap_ec.representation import Representation\n",
    "\n",
    "from tessellation.draw import MPLDrawer\n",
    "from tessellation.procgen import ALL_ACTIONS, Action, Generator, GenerationResult, TessellationType\n",
    "from tessellation.procgen.ga.genome import TessellationDecoder\n",
    "from tessellation.procgen.ga import heuristic\n",
    "from tessellation.procgen.ga import mutate\n",
    "from tessellation.procgen.ga.problem import TessellationProblem, initialize_genome"
   ]
  },
  {
   "cell_type": "markdown",
   "id": "279f977f",
   "metadata": {},
   "source": [
    "## Configuration"
   ]
  },
  {
   "cell_type": "code",
   "execution_count": 3,
   "id": "e12fc97d",
   "metadata": {},
   "outputs": [],
   "source": [
    "# Proc gen constants\n",
    "SEED = 32\n",
    "SIDE_LEN = 100\n",
    "\n",
    "# Genetic Algorithm config\n",
    "SIDE_LEN = 100\n",
    "SUBSTITUTION_PROB, INSERTION_PROB, DELETION_PROB = 0.1, 0.1, 0.1\n",
    "POP_SIZE = 50\n",
    "MAX_GENERATIONS = 100\n",
    "ACTION_PROBS = np.ones(len(Action)) / len(Action)\n",
    "HEURISTIC_FNS = [\n",
    "    # lambda phenome:  heuristic.bottom_top_not_even_penalty(phenome, max_diff_before_penalty=20),\n",
    "    heuristic.duplicated_points_penalty,\n",
    "    lambda phenome: heuristic.out_of_bounds_penalty(phenome, SIDE_LEN),\n",
    "    heuristic.count_number_points_reward,\n",
    "    lambda phenome:  heuristic.bottom_top_even_reward(phenome, max_diff_before_reward=20),\n",
    "]\n",
    "FN_WEIGHTS = np.array([1, 0.2, 1, 1])\n",
    "\n",
    "# Draw config\n",
    "CMAP = \"gray\"\n",
    "drawer = MPLDrawer(CMAP)    \n",
    "\n",
    "# Save config\n",
    "SAVE_DIR = Path(f\"saved_tessellations/ga/\")\n",
    "SAVE_DIR.mkdir(parents=True, exist_ok=True)"
   ]
  },
  {
   "cell_type": "markdown",
   "id": "6c034959",
   "metadata": {},
   "source": [
    "## Genetic Algorithm Tessellation\n",
    "We'll be using the LEAP package for our genetic algorithms."
   ]
  },
  {
   "cell_type": "code",
   "execution_count": 4,
   "id": "b8424802",
   "metadata": {
    "scrolled": true
   },
   "outputs": [
    {
     "name": "stdout",
     "output_type": "stream",
     "text": [
      "step,bsf\n",
      "0,122.14690464925488\n",
      "1,195.58630183096508\n",
      "2,332.94245694926286\n",
      "3,332.94245694926286\n",
      "4,332.94245694926286\n",
      "5,338.62215141050336\n",
      "6,443.42705313749883\n",
      "7,443.42705313749883\n",
      "8,489.4209689196466\n",
      "9,489.4209689196466\n",
      "10,563.0968082418757\n",
      "11,563.0968082418757\n",
      "12,580.9288120902936\n",
      "13,619.2985020187355\n",
      "14,642.391211990899\n",
      "15,642.391211990899\n",
      "16,655.3600000000001\n",
      "17,655.3600000000001\n",
      "18,655.3600000000001\n",
      "19,655.3600000000001\n",
      "20,655.3600000000001\n",
      "21,655.3600000000001\n",
      "22,655.3600000000001\n",
      "23,655.3600000000001\n",
      "24,655.3600000000001\n",
      "25,655.3600000000001\n",
      "26,655.3600000000001\n",
      "27,655.3600000000001\n",
      "28,655.3600000000001\n",
      "29,655.3600000000001\n",
      "30,655.3600000000001\n",
      "31,655.3600000000001\n",
      "32,655.3600000000001\n",
      "33,655.3600000000001\n",
      "34,655.3600000000001\n",
      "35,655.3600000000001\n",
      "36,655.3600000000001\n",
      "37,655.3600000000001\n",
      "38,655.3600000000001\n",
      "39,655.3600000000001\n",
      "40,655.3600000000001\n",
      "41,655.3600000000001\n",
      "42,655.3600000000001\n",
      "43,655.3600000000001\n",
      "44,655.3600000000001\n",
      "45,655.3600000000001\n",
      "46,655.3600000000001\n",
      "47,655.3600000000001\n",
      "48,655.3600000000001\n",
      "49,655.3600000000001\n",
      "50,655.3600000000001\n",
      "51,655.3600000000001\n",
      "52,655.3600000000001\n",
      "53,655.3600000000001\n",
      "54,655.3600000000001\n",
      "55,655.3600000000001\n",
      "56,655.3600000000001\n",
      "57,655.3600000000001\n",
      "58,655.3600000000001\n",
      "59,655.3600000000001\n",
      "60,655.3600000000001\n",
      "61,655.3600000000001\n",
      "62,655.3600000000001\n",
      "63,655.3600000000001\n",
      "64,655.3600000000001\n",
      "65,655.3600000000001\n",
      "66,655.3600000000001\n",
      "67,655.3600000000001\n",
      "68,655.3600000000001\n",
      "69,655.3600000000001\n",
      "70,655.3600000000001\n",
      "71,655.3600000000001\n",
      "72,655.3600000000001\n",
      "73,655.3600000000001\n",
      "74,655.3600000000001\n",
      "75,655.3600000000001\n",
      "76,655.3600000000001\n",
      "77,655.3600000000001\n",
      "78,655.3600000000001\n",
      "79,655.3600000000001\n",
      "80,655.3600000000001\n",
      "81,655.3600000000001\n",
      "82,655.3600000000001\n",
      "83,655.3600000000001\n",
      "84,655.3600000000001\n",
      "85,655.3600000000001\n",
      "86,655.3600000000001\n",
      "87,655.3600000000001\n",
      "88,655.3600000000001\n",
      "89,655.3600000000001\n",
      "90,655.3600000000001\n",
      "91,655.3600000000001\n",
      "92,655.3600000000001\n",
      "93,655.3600000000001\n",
      "94,655.3600000000001\n",
      "95,655.3600000000001\n",
      "96,655.3600000000001\n",
      "97,655.3600000000001\n",
      "98,655.3600000000001\n",
      "99,655.3600000000001\n"
     ]
    },
    {
     "data": {
      "text/plain": [
       "array([5.12, 5.12, 5.12, 5.12, 5.12])"
      ]
     },
     "execution_count": 4,
     "metadata": {},
     "output_type": "execute_result"
    }
   ],
   "source": [
    "from leap_ec.simple import ea_solve\n",
    "\n",
    "def f(x):\n",
    "    \"\"\"A real-valued function to optimized.\"\"\"\n",
    "    return sum(x)**2\n",
    "\n",
    "ea_solve(f, bounds=[(-5.12, 5.12) for _ in range(5)], maximize=True)"
   ]
  },
  {
   "cell_type": "markdown",
   "id": "251ab098-2dba-48ca-b86b-2c848ae8ddfb",
   "metadata": {},
   "source": [
    "### Define Problem and Representation"
   ]
  },
  {
   "cell_type": "code",
   "execution_count": 5,
   "id": "e31c5d39-f2e7-4636-9b29-02a40a245f12",
   "metadata": {},
   "outputs": [],
   "source": [
    "problem = TessellationProblem(\n",
    "    heuristic_fns=HEURISTIC_FNS, \n",
    "    fn_weights=FN_WEIGHTS, \n",
    "    side_len=SIDE_LEN\n",
    ")\n",
    "\n",
    "representation = Representation(\n",
    "    decoder=TessellationDecoder(),\n",
    "    initialize=lambda: initialize_genome(problem) \n",
    ")"
   ]
  },
  {
   "cell_type": "markdown",
   "id": "c9839c60-7757-415f-983c-2da49d596791",
   "metadata": {},
   "source": [
    "### Evolve!"
   ]
  },
  {
   "cell_type": "code",
   "execution_count": 6,
   "id": "d527f83a-e71f-4e1a-81fe-c02641857e06",
   "metadata": {
    "scrolled": true
   },
   "outputs": [
    {
     "name": "stdout",
     "output_type": "stream",
     "text": [
      "step,bsf\n",
      "0,110.0\n",
      "1,118.0\n",
      "2,119.0\n",
      "3,119.0\n",
      "4,126.0\n",
      "5,126.0\n",
      "6,126.0\n",
      "7,127.0\n",
      "8,127.0\n",
      "9,129.0\n",
      "10,134.0\n",
      "11,134.0\n",
      "12,146.0\n",
      "13,146.0\n",
      "14,150.0\n",
      "15,150.0\n",
      "16,150.0\n",
      "17,150.0\n",
      "18,151.0\n",
      "19,152.0\n",
      "20,156.0\n",
      "21,158.0\n",
      "22,168.0\n",
      "23,168.0\n",
      "24,168.0\n",
      "25,168.0\n",
      "26,168.0\n",
      "27,174.0\n",
      "28,174.0\n",
      "29,174.0\n",
      "30,174.0\n",
      "31,174.0\n",
      "32,174.0\n",
      "33,174.0\n",
      "34,174.0\n",
      "35,174.0\n",
      "36,174.0\n",
      "37,174.0\n",
      "38,174.0\n",
      "39,174.0\n",
      "40,174.0\n",
      "41,174.0\n",
      "42,174.0\n",
      "43,174.0\n",
      "44,174.0\n",
      "45,174.0\n",
      "46,174.0\n",
      "47,174.0\n",
      "48,174.0\n",
      "49,174.0\n",
      "50,174.0\n",
      "51,174.0\n",
      "52,174.0\n",
      "53,174.0\n",
      "54,174.0\n",
      "55,174.0\n",
      "56,176.0\n",
      "57,176.0\n",
      "58,176.0\n",
      "59,176.0\n",
      "60,179.0\n",
      "61,179.0\n",
      "62,179.0\n",
      "63,179.0\n",
      "64,179.0\n",
      "65,179.0\n",
      "66,179.0\n",
      "67,179.0\n",
      "68,179.0\n",
      "69,179.0\n",
      "70,179.0\n",
      "71,179.0\n",
      "72,179.0\n",
      "73,179.0\n",
      "74,180.0\n",
      "75,180.0\n",
      "76,180.0\n",
      "77,180.0\n",
      "78,180.0\n",
      "79,180.0\n",
      "80,180.0\n",
      "81,180.0\n",
      "82,180.0\n",
      "83,180.0\n",
      "84,180.0\n",
      "85,180.0\n",
      "86,180.0\n",
      "87,180.0\n",
      "88,180.0\n",
      "89,180.0\n",
      "90,180.0\n",
      "91,180.0\n",
      "92,180.0\n",
      "93,180.0\n",
      "94,180.0\n",
      "95,183.0\n",
      "96,183.0\n",
      "97,183.0\n",
      "98,183.0\n",
      "99,186.0\n"
     ]
    }
   ],
   "source": [
    "final_pop = generational_ea(\n",
    "    max_generations=MAX_GENERATIONS, \n",
    "    pop_size=POP_SIZE,\n",
    "    problem=problem,\n",
    "    representation=representation,\n",
    "\n",
    "    # The operator pipeline\n",
    "    pipeline=[\n",
    "        # Select parents via tournament_selection selection\n",
    "        ops.tournament_selection,\n",
    "        \n",
    "        ops.clone,  # Copy them (just to be safe)\n",
    "        lambda individual_iterator: mutate.apply_mutation(\n",
    "            mutate.substitute_action, individual_iterator, fn_kwargs={\"action_probs\": ACTION_PROBS}\n",
    "        ),\n",
    "        lambda individual_iterator: mutate.apply_mutation(\n",
    "            mutate.insert_action, individual_iterator, fn_kwargs={\"action_probs\": ACTION_PROBS}\n",
    "        ),\n",
    "        lambda individual_iterator: mutate.apply_mutation(mutate.delete_action, individual_iterator),\n",
    "        \n",
    "        # Crossover with a 40% chance of swapping each gene\n",
    "        # ops.UniformCrossover(p_swap=0.4),\n",
    "        \n",
    "        ops.evaluate,  # Evaluate fitness\n",
    "        \n",
    "        # Collect offspring into a new population\n",
    "        ops.pool(size=POP_SIZE),\n",
    "        \n",
    "        probe.BestSoFarProbe()  # Print the BSF\n",
    "    ]\n",
    ")"
   ]
  },
  {
   "cell_type": "markdown",
   "id": "219545c7-2f7d-43f0-a711-02592ef12f96",
   "metadata": {},
   "source": [
    "## Evaluate"
   ]
  },
  {
   "cell_type": "code",
   "execution_count": 16,
   "id": "259fd1d9-525b-4cb2-9e1a-86973a85d6bb",
   "metadata": {},
   "outputs": [],
   "source": [
    "def examine_individual(individual):\n",
    "    genome = individual.genome\n",
    "    phenome = decoder.decode(genome)\n",
    "    print(f\"Individual: {idx}; Fitness: {problem.evaluate(phenome)}\")\n",
    "    mask = np.zeros((SIDE_LEN, SIDE_LEN), dtype=int)\n",
    "    mask = Generator._draw_line(mask, genome.start_point, genome.actions)\n",
    "    mask_T = Generator._draw_line(mask.T, genome.start_point, genome.actions)\n",
    "    final_mask = mask | mask_T\n",
    "    \n",
    "    gen_result = GenerationResult(final_mask, TessellationType.SQUARE_TRANSLATION)\n",
    "    tessellation = Generator.tessellate(gen_result)\n",
    "    \n",
    "    drawing = drawer.draw(tessellation)\n",
    "    if show:\n",
    "        plt.show()\n",
    "        print(\"Press 's' to save, 'q' to quit, or 'enter' to continue...\")\n",
    "        while True:   \n",
    "            user_action = input()\n",
    "            if not user_action:\n",
    "                break\n",
    "        \n",
    "            elif user_action.lower() == \"s\":\n",
    "                print(\"Provide a name for the tessellation, or click 'enter' to use timestamp as name...\")\n",
    "                save_name = input()\n",
    "                if not save_name:\n",
    "                    save_name = f\"{datetime.today().isoformat()}\"\n",
    "    \n",
    "                gen_result.save_as_json(SAVE_DIR / f\"{save_name}.json\")\n",
    "                drawer.save_as_png(SAVE_DIR / f\"{save_name}.png\", tessellation)\n",
    "                break\n",
    "            elif user_action.lower() == \"q\":\n",
    "                raise KeyboardInterrupt\n",
    "    clear_output()"
   ]
  },
  {
   "cell_type": "code",
   "execution_count": 17,
   "id": "62b5a613-089d-4822-a737-97aa2d2c40ce",
   "metadata": {},
   "outputs": [
    {
     "name": "stdout",
     "output_type": "stream",
     "text": [
      "Individual: 24; Fitness: 152.0\n"
     ]
    },
    {
     "data": {
      "image/png": "[encoded data removed]",
      "text/plain": [
       "<Figure size 640x480 with 1 Axes>"
      ]
     },
     "metadata": {},
     "output_type": "display_data"
    },
    {
     "name": "stdout",
     "output_type": "stream",
     "text": [
      "Press 's' to save, 'q' to quit, or 'enter' to continue...\n"
     ]
    },
    {
     "name": "stdin",
     "output_type": "stream",
     "text": [
      " q\n"
     ]
    },
    {
     "ename": "KeyboardInterrupt",
     "evalue": "",
     "output_type": "error",
     "traceback": [
      "\u001b[1;31m---------------------------------------------------------------------------\u001b[0m",
      "\u001b[1;31mKeyboardInterrupt\u001b[0m                         Traceback (most recent call last)",
      "Cell \u001b[1;32mIn[17], line 6\u001b[0m\n\u001b[0;32m      4\u001b[0m show \u001b[38;5;241m=\u001b[39m \u001b[38;5;28;01mTrue\u001b[39;00m\n\u001b[0;32m      5\u001b[0m \u001b[38;5;28;01mfor\u001b[39;00m idx, individual \u001b[38;5;129;01min\u001b[39;00m \u001b[38;5;28menumerate\u001b[39m(final_pop):\n\u001b[1;32m----> 6\u001b[0m     \u001b[43mexamine_individual\u001b[49m\u001b[43m(\u001b[49m\u001b[43mindividual\u001b[49m\u001b[43m)\u001b[49m\n",
      "Cell \u001b[1;32mIn[16], line 32\u001b[0m, in \u001b[0;36mexamine_individual\u001b[1;34m(individual)\u001b[0m\n\u001b[0;32m     30\u001b[0m             \u001b[38;5;28;01mbreak\u001b[39;00m\n\u001b[0;32m     31\u001b[0m         \u001b[38;5;28;01melif\u001b[39;00m user_action\u001b[38;5;241m.\u001b[39mlower() \u001b[38;5;241m==\u001b[39m \u001b[38;5;124m\"\u001b[39m\u001b[38;5;124mq\u001b[39m\u001b[38;5;124m\"\u001b[39m:\n\u001b[1;32m---> 32\u001b[0m             \u001b[38;5;28;01mraise\u001b[39;00m \u001b[38;5;167;01mKeyboardInterrupt\u001b[39;00m\n\u001b[0;32m     33\u001b[0m clear_output()\n",
      "\u001b[1;31mKeyboardInterrupt\u001b[0m: "
     ]
    }
   ],
   "source": [
    "from IPython.display import clear_output\n",
    "\n",
    "decoder = TessellationDecoder()\n",
    "show = True\n",
    "for idx, individual in enumerate(final_pop):\n",
    "    examine_individual(individual)"
   ]
  },
  {
   "cell_type": "code",
   "execution_count": null,
   "id": "143c4760-493e-412b-a46a-1f1566e81edd",
   "metadata": {},
   "outputs": [],
   "source": []
  }
 ],
 "metadata": {
  "kernelspec": {
   "display_name": "Python 3 (ipykernel)",
   "language": "python",
   "name": "python3"
  },
  "language_info": {
   "codemirror_mode": {
    "name": "ipython",
    "version": 3
   },
   "file_extension": ".py",
   "mimetype": "text/x-python",
   "name": "python",
   "nbconvert_exporter": "python",
   "pygments_lexer": "ipython3",
   "version": "3.12.4"
  }
 },
 "nbformat": 4,
 "nbformat_minor": 5
}
