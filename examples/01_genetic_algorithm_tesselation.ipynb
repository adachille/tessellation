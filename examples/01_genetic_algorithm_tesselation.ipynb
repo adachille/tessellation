{
 "cells": [
  {
   "cell_type": "markdown",
   "id": "135fd008",
   "metadata": {},
   "source": [
    "# Genetic Algorithm Tessellation\n",
    "In this notebook, we'll use genetic algorithms to create tessellations!"
   ]
  },
  {
   "cell_type": "markdown",
   "id": "ac7b1111",
   "metadata": {},
   "source": [
    "## Setup"
   ]
  },
  {
   "cell_type": "code",
   "execution_count": 1,
   "id": "8824de5f",
   "metadata": {},
   "outputs": [],
   "source": [
    "%load_ext autoreload\n",
    "%autoreload 2\n",
    "\n",
    "import os\n",
    "os.chdir(\"..\") # Move execution to root dir"
   ]
  },
  {
   "cell_type": "code",
   "execution_count": 2,
   "id": "78914b74",
   "metadata": {},
   "outputs": [],
   "source": [
    "from datetime import datetime\n",
    "from enum import Enum, auto\n",
    "from pathlib import Path\n",
    "from typing import Callable, Iterator, Optional\n",
    "\n",
    "import numpy as np\n",
    "from matplotlib import pyplot as plt \n",
    "from leap_ec import ops, probe, Individual\n",
    "from leap_ec.algorithm import generational_ea\n",
    "from leap_ec.representation import Representation\n",
    "\n",
    "from tessellation.draw import Drawer\n",
    "from tessellation.procgen import Action, GenerationResult\n",
    "from tessellation.procgen.ga import heuristic, mutate\n",
    "from tessellation.procgen.ga.ga_generator import GATessellationGenerator"
   ]
  },
  {
   "cell_type": "markdown",
   "id": "279f977f",
   "metadata": {},
   "source": [
    "## Configuration"
   ]
  },
  {
   "cell_type": "markdown",
   "id": "768c6ea7-c858-4997-b58c-2457e2af9e6a",
   "metadata": {},
   "source": [
    "### Proc Gen constants"
   ]
  },
  {
   "cell_type": "code",
   "execution_count": 3,
   "id": "10177a81-d0d2-48cd-aa1c-21d694b037a7",
   "metadata": {},
   "outputs": [],
   "source": [
    "# Proc gen constants #\n",
    "SEED = 32\n",
    "SIDE_LEN = 100"
   ]
  },
  {
   "cell_type": "markdown",
   "id": "325c2eaf-e3c1-41a0-a26e-ac46e01abea4",
   "metadata": {},
   "source": [
    "### Genetic algorithm constants"
   ]
  },
  {
   "cell_type": "code",
   "execution_count": 4,
   "id": "e12fc97d",
   "metadata": {},
   "outputs": [],
   "source": [
    "# General\n",
    "POPULATION_SIZE = 50\n",
    "MAX_GENERATIONS = 100\n",
    "\n",
    "# Heuristics\n",
    "HEURISTIC_FNS = [\n",
    "    # lambda phenome:  heuristic.bottom_top_not_even_penalty(phenome, max_diff_before_penalty=20),\n",
    "    heuristic.duplicated_points_penalty,\n",
    "    lambda phenome: heuristic.out_of_bounds_penalty(phenome, SIDE_LEN),\n",
    "    heuristic.count_number_points_reward,\n",
    "    lambda phenome:  heuristic.bottom_top_even_reward(phenome, max_diff_before_reward=20),\n",
    "]\n",
    "HEURISTIC_FN_WEIGHTS = np.array([1, 0.2, 1, 1, 10])\n",
    "\n",
    "# Mutation\n",
    "SUBSTITUTION_PROB, INSERTION_PROB, DELETION_PROB = 0.1, 0.1, 0.1\n",
    "ACTION_PROBS = np.ones(len(Action)) / len(Action)\n",
    "MUTATION_FNS = [\n",
    "    lambda individual_iterator: mutate.apply_mutation(\n",
    "        mutate.substitute_action,\n",
    "        individual_iterator,\n",
    "        fn_kwargs={\"action_probs\": ACTION_PROBS},\n",
    "    ),\n",
    "    lambda individual_iterator: mutate.apply_mutation(\n",
    "        mutate.insert_action,\n",
    "        individual_iterator,\n",
    "        fn_kwargs={\"action_probs\": ACTION_PROBS},\n",
    "    ),\n",
    "    lambda individual_iterator: mutate.apply_mutation(\n",
    "        mutate.delete_action, individual_iterator\n",
    "    ),\n",
    "]\n",
    "\n",
    "# Draw config\n",
    "CMAP = \"gray\"\n",
    "drawer = Drawer(CMAP)    \n",
    "\n",
    "# Save config\n",
    "SAVE_DIR = Path(f\"saved_tessellations/ga/\")\n",
    "SAVE_DIR.mkdir(parents=True, exist_ok=True)"
   ]
  },
  {
   "cell_type": "markdown",
   "id": "6dc439f6-9899-4a95-8277-a59aaa060247",
   "metadata": {},
   "source": [
    "## Genetic Algorithm"
   ]
  },
  {
   "cell_type": "code",
   "execution_count": 10,
   "id": "5e26fef2-2806-4c08-bdca-ca96bf030fa7",
   "metadata": {},
   "outputs": [
    {
     "name": "stdout",
     "output_type": "stream",
     "text": [
      "step,bsf\n",
      "0,124.0\n",
      "1,124.0\n",
      "2,128.0\n",
      "3,128.0\n",
      "4,129.0\n",
      "5,129.0\n",
      "6,132.0\n",
      "7,139.0\n",
      "8,139.0\n",
      "9,139.0\n",
      "10,146.0\n",
      "11,148.0\n",
      "12,161.0\n",
      "13,161.0\n",
      "14,161.0\n",
      "15,161.0\n",
      "16,161.0\n",
      "17,161.0\n",
      "18,161.0\n",
      "19,161.0\n",
      "20,161.0\n",
      "21,171.0\n",
      "22,171.0\n",
      "23,171.0\n",
      "24,171.0\n",
      "25,171.0\n",
      "26,171.0\n",
      "27,171.0\n",
      "28,171.0\n",
      "29,171.0\n",
      "30,171.0\n",
      "31,171.0\n",
      "32,171.0\n",
      "33,171.0\n",
      "34,171.0\n",
      "35,171.0\n",
      "36,171.0\n",
      "37,171.0\n",
      "38,171.0\n",
      "39,173.0\n",
      "40,173.0\n",
      "41,173.0\n",
      "42,173.0\n",
      "43,173.0\n",
      "44,173.0\n",
      "45,174.0\n",
      "46,178.0\n",
      "47,178.0\n",
      "48,178.0\n",
      "49,178.0\n",
      "50,178.0\n",
      "51,178.0\n",
      "52,178.0\n",
      "53,178.0\n",
      "54,178.0\n",
      "55,178.0\n",
      "56,178.0\n",
      "57,178.0\n",
      "58,178.0\n",
      "59,178.0\n",
      "60,178.0\n",
      "61,178.0\n",
      "62,183.0\n",
      "63,183.0\n",
      "64,183.0\n",
      "65,183.0\n",
      "66,187.0\n",
      "67,187.0\n",
      "68,187.0\n",
      "69,187.0\n",
      "70,187.0\n",
      "71,187.0\n",
      "72,187.0\n",
      "73,187.0\n",
      "74,187.0\n",
      "75,187.0\n",
      "76,187.0\n",
      "77,187.0\n",
      "78,187.0\n",
      "79,187.0\n",
      "80,187.0\n",
      "81,187.0\n",
      "82,187.0\n",
      "83,187.0\n",
      "84,187.0\n",
      "85,187.0\n",
      "86,187.0\n",
      "87,187.0\n",
      "88,187.0\n",
      "89,187.0\n",
      "90,187.0\n",
      "91,196.0\n",
      "92,196.0\n",
      "93,196.0\n",
      "94,196.0\n",
      "95,196.0\n",
      "96,196.0\n",
      "97,196.0\n",
      "98,196.0\n",
      "99,196.0\n",
      "Invalid individual: Individual<c90a975f-56b8-4a47-8c98-d48b1d2f9cd9> with fitness -19819.0, returning None\n",
      "Invalid individual: Individual<9581d29b-a437-4934-a440-205a56eeafc6> with fitness -19828.0, returning None\n",
      "Invalid individual: Individual<f66477c4-e8e2-4ea2-b026-5c1dc47c7d89> with fitness -19829.0, returning None\n",
      "Invalid individual: Individual<9924a777-5154-4dd4-b817-eb0d3711e380> with fitness -19830.0, returning None\n",
      "Invalid individual: Individual<1be7d037-04aa-40f4-9622-5572967cad68> with fitness -19832.0, returning None\n",
      "Invalid individual: Individual<f36fe1da-1b2c-4ff0-b5e0-dc43a8d5651e> with fitness -19832.0, returning None\n",
      "Invalid individual: Individual<64c5de3f-b1bd-4ab6-af29-d01344459da0> with fitness -19832.0, returning None\n",
      "Invalid individual: Individual<16adbaf8-3160-48bf-97d1-ea27a6213ba9> with fitness -19832.0, returning None\n",
      "Invalid individual: Individual<57f00047-9f72-4535-bb74-b95b8883704c> with fitness -19832.0, returning None\n",
      "Invalid individual: Individual<49d411e5-243c-44ea-a6b4-cd3338190fbb> with fitness -19835.0, returning None\n",
      "Invalid individual: Individual<bba2f7bf-24e8-45c2-a350-04aa77a41f75> with fitness -19837.0, returning None\n",
      "Invalid individual: Individual<c3649fd8-9c81-4b4e-bc9a-7cf61bbe359b> with fitness -19839.0, returning None\n"
     ]
    }
   ],
   "source": [
    "generator = GATessellationGenerator(\n",
    "    heuristic_fns=HEURISTIC_FNS, \n",
    "    mutation_fns=MUTATION_FNS,\n",
    "    heuristic_fn_weights=HEURISTIC_FN_WEIGHTS, \n",
    "    side_len=SIDE_LEN,\n",
    "    max_generations=MAX_GENERATIONS,\n",
    "    population_size=POPULATION_SIZE,\n",
    ")\n",
    "results = generator.evolve()"
   ]
  },
  {
   "cell_type": "markdown",
   "id": "219545c7-2f7d-43f0-a711-02592ef12f96",
   "metadata": {},
   "source": [
    "## Evaluate"
   ]
  },
  {
   "cell_type": "code",
   "execution_count": null,
   "id": "76280392-e4d0-409e-9eec-ad0466d714e4",
   "metadata": {},
   "outputs": [
    {
     "name": "stdout",
     "output_type": "stream",
     "text": [
      "Individual: 6; Fitness: 167.0\n"
     ]
    },
    {
     "data": {
      "image/png": "[encoded data removed]",
      "text/plain": [
       "<Figure size 640x480 with 1 Axes>"
      ]
     },
     "metadata": {},
     "output_type": "display_data"
    },
    {
     "name": "stdout",
     "output_type": "stream",
     "text": [
      "Press 's' to save, 'q' to quit, or 'enter' to continue...\n"
     ]
    }
   ],
   "source": [
    "from IPython.display import clear_output\n",
    "\n",
    "def display_tessellations(\n",
    "    generation_results: list[GenerationResult], save_dir: Path, show: bool = True,\n",
    "):\n",
    "    \"\"\"Display tessellations and allow user to save them.\"\"\"\n",
    "    should_continue = True\n",
    "    for idx, result in enumerate(generation_results):\n",
    "        print(f'Individual: {idx}; Fitness: {result.metadata[\"fitness\"]}')\n",
    "        \n",
    "        tessellation = drawer.tessellate(result)\n",
    "        drawer.draw(tessellation)\n",
    "        if show:\n",
    "            plt.show()\n",
    "            print(\"Press 's' to save, 'q' to quit, or 'enter' to continue...\")\n",
    "            while True:\n",
    "                user_action = input()\n",
    "                if not user_action:\n",
    "                    break\n",
    "\n",
    "                elif user_action.lower() == \"s\":\n",
    "                    print(\n",
    "                        \"Provide a name for the tessellation, or click 'enter' to use timestamp as name...\"\n",
    "                    )\n",
    "                    save_name = input()\n",
    "                    if not save_name:\n",
    "                        save_name = f\"{datetime.today().isoformat()}\"\n",
    "\n",
    "                    result.save_as_json(save_dir / f\"{save_name}.json\")\n",
    "                    drawer.save_as_png(save_dir / f\"{save_name}.png\", tessellation)\n",
    "                    break\n",
    "                elif user_action.lower() == \"q\":\n",
    "                    should_continue = False\n",
    "                    break\n",
    "\n",
    "        if should_continue:\n",
    "            clear_output()\n",
    "        else:\n",
    "            break\n",
    "\n",
    "display_tessellations(results, save_dir=SAVE_DIR)"
   ]
  },
  {
   "cell_type": "markdown",
   "id": "4d60e2a5-905d-453d-8d21-2f0ba29820b6",
   "metadata": {},
   "source": [
    "## Read saved tessellations"
   ]
  },
  {
   "cell_type": "code",
   "execution_count": null,
   "id": "255a2b9b-627b-459a-8379-b09ca393d08d",
   "metadata": {},
   "outputs": [],
   "source": [
    "def load_and_display(tess_filename: str):\n",
    "    result = GenerationResult.read_json(SAVE_DIR / f\"{tess_filename}.json\")\n",
    "    tessellation = drawer.tessellate(result)\n",
    "    drawer.draw(tessellation)\n",
    "\n",
    "# load_and_display(\"cloud_puff\")"
   ]
  },
  {
   "cell_type": "code",
   "execution_count": null,
   "id": "6b90f5ce-992a-49ab-93ad-b549cdf9a675",
   "metadata": {},
   "outputs": [],
   "source": [
    "# load_and_display(\"alien_hand_holding\")"
   ]
  },
  {
   "cell_type": "code",
   "execution_count": null,
   "id": "f9ab0416-6ecb-4fe5-938b-94074d0e729a",
   "metadata": {},
   "outputs": [],
   "source": [
    "# load_and_display(\"trees\")"
   ]
  }
 ],
 "metadata": {
  "kernelspec": {
   "display_name": "Python 3 (ipykernel)",
   "language": "python",
   "name": "python3"
  },
  "language_info": {
   "codemirror_mode": {
    "name": "ipython",
    "version": 3
   },
   "file_extension": ".py",
   "mimetype": "text/x-python",
   "name": "python",
   "nbconvert_exporter": "python",
   "pygments_lexer": "ipython3",
   "version": "3.12.6"
  }
 },
 "nbformat": 4,
 "nbformat_minor": 5
}
