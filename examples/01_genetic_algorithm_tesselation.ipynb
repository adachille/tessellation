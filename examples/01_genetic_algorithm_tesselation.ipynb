{
 "cells": [
  {
   "cell_type": "markdown",
   "id": "135fd008",
   "metadata": {},
   "source": [
    "# Genetic Algorithm Tessellation\n",
    "In this notebook, we'll use genetic algorithms to create tessellations!"
   ]
  },
  {
   "cell_type": "markdown",
   "id": "ac7b1111",
   "metadata": {},
   "source": [
    "## Setup"
   ]
  },
  {
   "cell_type": "code",
   "execution_count": 1,
   "id": "8824de5f",
   "metadata": {},
   "outputs": [],
   "source": [
    "%load_ext autoreload\n",
    "%autoreload 2\n",
    "\n",
    "import os\n",
    "os.chdir(\"..\") # Move execution to root dir"
   ]
  },
  {
   "cell_type": "code",
   "execution_count": 2,
   "id": "78914b74",
   "metadata": {},
   "outputs": [],
   "source": [
    "from enum import Enum, auto\n",
    "from typing import Callable, Iterator, Optional\n",
    "\n",
    "import numpy as np\n",
    "from matplotlib import pyplot as plt \n",
    "from leap_ec import ops, probe\n",
    "from leap_ec.algorithm import generational_ea\n",
    "from leap_ec.representation import Representation\n",
    "\n",
    "from tessellation.draw import MPLDrawer\n",
    "from tessellation.procgen.generator import ALL_ACTIONS, Action, Generator \n",
    "from tessellation.procgen.ga.genome import TessellationDecoder\n",
    "from tessellation.procgen.ga import heuristic\n",
    "from tessellation.procgen.ga import mutate\n",
    "from tessellation.procgen.ga.problem import TessellationProblem, initialize_genome"
   ]
  },
  {
   "cell_type": "markdown",
   "id": "279f977f",
   "metadata": {},
   "source": [
    "## Configuration"
   ]
  },
  {
   "cell_type": "code",
   "execution_count": 3,
   "id": "e12fc97d",
   "metadata": {},
   "outputs": [],
   "source": [
    "# Proc gen constants\n",
    "SEED = 32\n",
    "SIDE_LEN = 100\n",
    "\n",
    "# Genetic Algorithm config\n",
    "SIDE_LEN = 100\n",
    "SUBSTITUTION_PROB, INSERTION_PROB, DELETION_PROB = 0.1, 0.1, 0.1\n",
    "POP_SIZE = 50\n",
    "MAX_GENERATIONS = 100\n",
    "ACTION_PROBS = np.ones(len(Action)) / len(Action)\n",
    "HEURISTIC_FNS = [\n",
    "    heuristic.count_number_points,\n",
    "    heuristic.bottom_top_even,\n",
    "    heuristic.duplicated_points,\n",
    "    lambda phenome: heuristic.out_of_bounds(phenome, SIDE_LEN),\n",
    "]\n",
    "FN_WEIGHTS = np.array([1, 0.2, 1, 1])\n",
    "\n",
    "# Draw config\n",
    "CMAP = \"gray\"\n",
    "drawer = MPLDrawer(CMAP)    "
   ]
  },
  {
   "cell_type": "markdown",
   "id": "6c034959",
   "metadata": {},
   "source": [
    "## Genetic Algorithm Tessellation\n",
    "We'll be using the LEAP package for our genetic algorithms."
   ]
  },
  {
   "cell_type": "markdown",
   "id": "4febc863",
   "metadata": {},
   "source": [
    "### Simple test\n",
    "Let's start by trying out the simplest form of GA - simple real-valued function optimization."
   ]
  },
  {
   "cell_type": "code",
   "execution_count": 4,
   "id": "b8424802",
   "metadata": {
    "scrolled": true
   },
   "outputs": [
    {
     "name": "stdout",
     "output_type": "stream",
     "text": [
      "step,bsf\n",
      "0,83.82590606495701\n",
      "1,170.17842791662056\n",
      "2,191.61655011762792\n",
      "3,193.6577151932539\n",
      "4,297.1343970595352\n",
      "5,335.49214880753414\n",
      "6,335.49214880753414\n",
      "7,356.4807115221915\n",
      "8,379.57460230332\n",
      "9,379.57460230332\n",
      "10,432.3191471937948\n",
      "11,436.21709358657284\n",
      "12,525.3755971575137\n",
      "13,587.032796457994\n",
      "14,587.032796457994\n",
      "15,587.032796457994\n",
      "16,587.032796457994\n",
      "17,587.032796457994\n",
      "18,587.032796457994\n",
      "19,587.032796457994\n",
      "20,610.9812602946071\n",
      "21,610.9812602946071\n",
      "22,610.9812602946071\n",
      "23,610.9812602946071\n",
      "24,610.9812602946071\n",
      "25,615.0707009590417\n",
      "26,655.3600000000001\n",
      "27,655.3600000000001\n",
      "28,655.3600000000001\n",
      "29,655.3600000000001\n",
      "30,655.3600000000001\n",
      "31,655.3600000000001\n",
      "32,655.3600000000001\n",
      "33,655.3600000000001\n",
      "34,655.3600000000001\n",
      "35,655.3600000000001\n",
      "36,655.3600000000001\n",
      "37,655.3600000000001\n",
      "38,655.3600000000001\n",
      "39,655.3600000000001\n",
      "40,655.3600000000001\n",
      "41,655.3600000000001\n",
      "42,655.3600000000001\n",
      "43,655.3600000000001\n",
      "44,655.3600000000001\n",
      "45,655.3600000000001\n",
      "46,655.3600000000001\n",
      "47,655.3600000000001\n",
      "48,655.3600000000001\n",
      "49,655.3600000000001\n",
      "50,655.3600000000001\n",
      "51,655.3600000000001\n",
      "52,655.3600000000001\n",
      "53,655.3600000000001\n",
      "54,655.3600000000001\n",
      "55,655.3600000000001\n",
      "56,655.3600000000001\n",
      "57,655.3600000000001\n",
      "58,655.3600000000001\n",
      "59,655.3600000000001\n",
      "60,655.3600000000001\n",
      "61,655.3600000000001\n",
      "62,655.3600000000001\n",
      "63,655.3600000000001\n",
      "64,655.3600000000001\n",
      "65,655.3600000000001\n",
      "66,655.3600000000001\n",
      "67,655.3600000000001\n",
      "68,655.3600000000001\n",
      "69,655.3600000000001\n",
      "70,655.3600000000001\n",
      "71,655.3600000000001\n",
      "72,655.3600000000001\n",
      "73,655.3600000000001\n",
      "74,655.3600000000001\n",
      "75,655.3600000000001\n",
      "76,655.3600000000001\n",
      "77,655.3600000000001\n",
      "78,655.3600000000001\n",
      "79,655.3600000000001\n",
      "80,655.3600000000001\n",
      "81,655.3600000000001\n",
      "82,655.3600000000001\n",
      "83,655.3600000000001\n",
      "84,655.3600000000001\n",
      "85,655.3600000000001\n",
      "86,655.3600000000001\n",
      "87,655.3600000000001\n",
      "88,655.3600000000001\n",
      "89,655.3600000000001\n",
      "90,655.3600000000001\n",
      "91,655.3600000000001\n",
      "92,655.3600000000001\n",
      "93,655.3600000000001\n",
      "94,655.3600000000001\n",
      "95,655.3600000000001\n",
      "96,655.3600000000001\n",
      "97,655.3600000000001\n",
      "98,655.3600000000001\n",
      "99,655.3600000000001\n"
     ]
    },
    {
     "data": {
      "text/plain": [
       "array([5.12, 5.12, 5.12, 5.12, 5.12])"
      ]
     },
     "execution_count": 4,
     "metadata": {},
     "output_type": "execute_result"
    }
   ],
   "source": [
    "from leap_ec.simple import ea_solve\n",
    "\n",
    "def f(x):\n",
    "    \"\"\"A real-valued function to optimized.\"\"\"\n",
    "    return sum(x)**2\n",
    "\n",
    "ea_solve(f, bounds=[(-5.12, 5.12) for _ in range(5)], maximize=True)"
   ]
  },
  {
   "cell_type": "markdown",
   "id": "251ab098-2dba-48ca-b86b-2c848ae8ddfb",
   "metadata": {},
   "source": [
    "### Build out Genetic Algorithm"
   ]
  },
  {
   "cell_type": "code",
   "execution_count": 6,
   "id": "e31c5d39-f2e7-4636-9b29-02a40a245f12",
   "metadata": {},
   "outputs": [],
   "source": [
    "problem = TessellationProblem(\n",
    "    heuristic_fns=HEURISTIC_FNS, \n",
    "    fn_weights=FN_WEIGHTS, \n",
    "    side_len=SIDE_LEN\n",
    ")\n",
    "\n",
    "representation = Representation(\n",
    "    decoder=TessellationDecoder(),\n",
    "    initialize=lambda: initialize_genome(problem) \n",
    ")"
   ]
  },
  {
   "cell_type": "code",
   "execution_count": 7,
   "id": "d527f83a-e71f-4e1a-81fe-c02641857e06",
   "metadata": {
    "scrolled": true
   },
   "outputs": [
    {
     "name": "stdout",
     "output_type": "stream",
     "text": [
      "step,bsf\n",
      "0,101.6\n",
      "1,105.6\n",
      "2,110.2\n",
      "3,111.6\n",
      "4,123.6\n",
      "5,123.6\n",
      "6,123.6\n",
      "7,123.6\n",
      "8,126.19999999999999\n",
      "9,131.2\n",
      "10,131.2\n",
      "11,135.0\n",
      "12,135.0\n",
      "13,135.0\n",
      "14,135.0\n",
      "15,135.0\n",
      "16,135.0\n",
      "17,135.0\n",
      "18,138.8\n",
      "19,138.8\n",
      "20,138.8\n",
      "21,138.8\n",
      "22,139.0\n",
      "23,139.0\n",
      "24,144.6\n",
      "25,144.6\n",
      "26,144.6\n",
      "27,145.8\n",
      "28,145.8\n",
      "29,151.4\n",
      "30,151.4\n",
      "31,151.4\n",
      "32,151.4\n",
      "33,151.4\n",
      "34,151.4\n",
      "35,151.4\n",
      "36,151.4\n",
      "37,157.2\n",
      "38,157.6\n",
      "39,157.6\n",
      "40,160.6\n",
      "41,160.6\n",
      "42,160.6\n",
      "43,160.6\n",
      "44,160.6\n",
      "45,160.6\n",
      "46,160.6\n",
      "47,160.6\n",
      "48,160.6\n",
      "49,160.6\n",
      "50,160.6\n",
      "51,160.6\n",
      "52,160.6\n",
      "53,160.6\n",
      "54,160.6\n",
      "55,160.6\n",
      "56,160.6\n",
      "57,160.6\n",
      "58,160.6\n",
      "59,162.4\n",
      "60,162.4\n",
      "61,162.4\n",
      "62,162.4\n",
      "63,162.4\n",
      "64,164.8\n",
      "65,164.8\n",
      "66,164.8\n",
      "67,164.8\n",
      "68,164.8\n",
      "69,164.8\n",
      "70,164.8\n",
      "71,164.8\n",
      "72,164.8\n",
      "73,164.8\n",
      "74,164.8\n",
      "75,164.8\n",
      "76,164.8\n",
      "77,164.8\n",
      "78,164.8\n",
      "79,164.8\n",
      "80,169.0\n",
      "81,169.0\n",
      "82,169.0\n",
      "83,169.0\n",
      "84,169.0\n",
      "85,169.0\n",
      "86,169.0\n",
      "87,169.0\n",
      "88,169.0\n",
      "89,169.0\n",
      "90,169.0\n",
      "91,169.0\n",
      "92,169.0\n",
      "93,169.0\n",
      "94,169.0\n",
      "95,169.0\n",
      "96,169.0\n",
      "97,169.0\n",
      "98,169.0\n",
      "99,169.0\n"
     ]
    }
   ],
   "source": [
    "final_pop = generational_ea(\n",
    "    max_generations=MAX_GENERATIONS, \n",
    "    pop_size=POP_SIZE,\n",
    "    problem=problem,\n",
    "    representation=representation,\n",
    "\n",
    "    # The operator pipeline\n",
    "    pipeline=[\n",
    "        # Select parents via tournament_selection selection\n",
    "        ops.tournament_selection,\n",
    "        \n",
    "        ops.clone,  # Copy them (just to be safe)\n",
    "        lambda individual_iterator: mutate.apply_mutation(\n",
    "            mutate.substitute_action, individual_iterator, fn_kwargs={\"action_probs\": ACTION_PROBS}\n",
    "        ),\n",
    "        lambda individual_iterator: mutate.apply_mutation(\n",
    "            mutate.insert_action, individual_iterator, fn_kwargs={\"action_probs\": ACTION_PROBS}\n",
    "        ),\n",
    "        lambda individual_iterator: mutate.apply_mutation(mutate.delete_action, individual_iterator),\n",
    "        \n",
    "        # Crossover with a 40% chance of swapping each gene\n",
    "        # ops.UniformCrossover(p_swap=0.4),\n",
    "        \n",
    "        ops.evaluate,  # Evaluate fitness\n",
    "        \n",
    "        # Collect offspring into a new population\n",
    "        ops.pool(size=POP_SIZE),\n",
    "        \n",
    "        probe.BestSoFarProbe()  # Print the BSF\n",
    "    ]\n",
    ")"
   ]
  },
  {
   "cell_type": "code",
   "execution_count": null,
   "id": "62b5a613-089d-4822-a737-97aa2d2c40ce",
   "metadata": {},
   "outputs": [
    {
     "name": "stdout",
     "output_type": "stream",
     "text": [
      "[(0, 0), (-1, 1), (0, 2), (-1, 3), (-2, 3), (-3, 4), (-2, 4), (-3, 4), (-2, 4), (-2, 5), (-1, 6), (-2, 7), (-1, 7), (-1, 8), (0, 8), (0, 9), (1, 9), (2, 10), (1, 10), (2, 11), (3, 11), (2, 12), (1, 13), (2, 14), (3, 15), (2, 16), (2, 17), (1, 17), (1, 18), (1, 19), (1, 20), (2, 21), (1, 21), (2, 22), (3, 22), (2, 22), (3, 22), (4, 22), (5, 23), (6, 24), (7, 25), (6, 25), (5, 25), (5, 26), (5, 27), (4, 27), (5, 27), (4, 28), (5, 28), (4, 29), (3, 30), (2, 31), (1, 32), (1, 33), (0, 33), (-1, 33), (-2, 33), (-2, 34), (-1, 35), (-2, 35), (-2, 36), (-3, 37), (-2, 37), (-3, 37), (-3, 38), (-4, 38), (-4, 39), (-5, 39), (-6, 39), (-7, 39), (-6, 39), (-5, 39), (-5, 40), (-6, 40), (-7, 40), (-6, 40), (-5, 40), (-6, 41), (-7, 41), (-8, 41), (-9, 42), (-9, 43), (-8, 43), (-7, 44), (-6, 45), (-5, 45), (-6, 45), (-5, 46), (-4, 46), (-5, 47), (-4, 48), (-3, 48), (-2, 48), (-2, 49), (-1, 50), (-2, 51), (-1, 51), (-2, 52), (-3, 53), (-4, 54), (-4, 55), (-5, 56), (-6, 56), (-6, 57), (-6, 58), (-7, 58), (-8, 58), (-8, 59), (-7, 60), (-6, 60), (-7, 61), (-6, 61), (-6, 62), (-6, 63), (-7, 64), (-6, 64), (-7, 65), (-8, 65), (-7, 66), (-6, 66), (-7, 67), (-7, 68), (-6, 68), (-7, 69), (-6, 69), (-6, 70), (-5, 70), (-4, 70), (-3, 70), (-2, 70), (-1, 70), (-1, 71), (0, 72), (1, 73), (1, 74), (2, 74), (3, 75), (4, 75), (4, 76), (4, 77), (4, 78), (3, 79), (4, 79), (5, 79), (4, 79), (5, 80), (4, 81), (4, 82), (5, 82), (6, 82), (7, 82), (7, 83), (8, 83), (7, 83), (6, 83), (7, 83), (8, 83), (7, 84), (8, 84), (9, 85), (8, 86), (9, 87), (8, 88), (8, 89), (7, 89), (6, 90), (5, 90), (4, 90), (3, 90), (2, 91), (2, 92), (3, 93), (3, 94), (2, 95), (1, 95), (0, 95), (-1, 95), (0, 96), (1, 96), (2, 96), (1, 97), (0, 98), (-1, 99), (-1, 100)]\n"
     ]
    },
    {
     "data": {
      "image/png": "[encoded data removed]",
      "text/plain": [
       "<Figure size 640x480 with 1 Axes>"
      ]
     },
     "metadata": {},
     "output_type": "display_data"
    },
    {
     "name": "stdout",
     "output_type": "stream",
     "text": [
      "Press 'q' to quit, anything else to continue...\n"
     ]
    }
   ],
   "source": [
    "from IPython.display import clear_output\n",
    "\n",
    "decoder = TessellationDecoder()\n",
    "for individual in final_pop:\n",
    "    genome = individual.genome\n",
    "    mask = np.zeros((SIDE_LEN, SIDE_LEN))\n",
    "    mask = Generator._draw_line(mask, genome.start_point, genome.actions)\n",
    "\n",
    "    drawer.draw(mask)\n",
    "    plt.show()\n",
    "    print(\"Press 'q' to quit, anything else to continue...\")\n",
    "    user_action = input()\n",
    "    \n",
    "\n",
    "    if user_action.lower() == \"q\":\n",
    "        break\n",
    "    clear_output()\n",
    "    "
   ]
  },
  {
   "cell_type": "code",
   "execution_count": null,
   "id": "143c4760-493e-412b-a46a-1f1566e81edd",
   "metadata": {},
   "outputs": [],
   "source": []
  }
 ],
 "metadata": {
  "kernelspec": {
   "display_name": "Python 3 (ipykernel)",
   "language": "python",
   "name": "python3"
  },
  "language_info": {
   "codemirror_mode": {
    "name": "ipython",
    "version": 3
   },
   "file_extension": ".py",
   "mimetype": "text/x-python",
   "name": "python",
   "nbconvert_exporter": "python",
   "pygments_lexer": "ipython3",
   "version": "3.11.4"
  }
 },
 "nbformat": 4,
 "nbformat_minor": 5
}
