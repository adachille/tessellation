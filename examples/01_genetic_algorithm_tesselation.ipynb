{
 "cells": [
  {
   "cell_type": "markdown",
   "id": "135fd008",
   "metadata": {},
   "source": [
    "# Genetic Algorithm Tessellation\n",
    "In this notebook, we'll use genetic algorithms to create tessellations!"
   ]
  },
  {
   "cell_type": "markdown",
   "id": "ac7b1111",
   "metadata": {},
   "source": [
    "## Setup"
   ]
  },
  {
   "cell_type": "code",
   "execution_count": 1,
   "id": "8824de5f",
   "metadata": {},
   "outputs": [],
   "source": [
    "%load_ext autoreload\n",
    "%autoreload 2\n",
    "\n",
    "import os\n",
    "os.chdir(\"..\") # Move execution to root dir"
   ]
  },
  {
   "cell_type": "code",
   "execution_count": 2,
   "id": "78914b74",
   "metadata": {},
   "outputs": [],
   "source": [
    "from enum import Enum, auto\n",
    "from typing import Callable, Iterator, Optional\n",
    "\n",
    "import numpy as np\n",
    "from matplotlib import pyplot as plt \n",
    "from leap_ec import ops, probe\n",
    "from leap_ec.algorithm import generational_ea\n",
    "from leap_ec.representation import Representation\n",
    "\n",
    "from tessellation.draw import MPLDrawer\n",
    "from tessellation.procgen.generator import ALL_ACTIONS, Action, Generator, GenerationResult\n",
    "from tessellation.procgen.ga.genome import TessellationDecoder\n",
    "from tessellation.procgen.ga import heuristic\n",
    "from tessellation.procgen.ga import mutate\n",
    "from tessellation.procgen.ga.problem import TessellationProblem, initialize_genome"
   ]
  },
  {
   "cell_type": "markdown",
   "id": "279f977f",
   "metadata": {},
   "source": [
    "## Configuration"
   ]
  },
  {
   "cell_type": "code",
   "execution_count": 3,
   "id": "e12fc97d",
   "metadata": {},
   "outputs": [],
   "source": [
    "# Proc gen constants\n",
    "SEED = 32\n",
    "SIDE_LEN = 100\n",
    "\n",
    "# Genetic Algorithm config\n",
    "SIDE_LEN = 100\n",
    "SUBSTITUTION_PROB, INSERTION_PROB, DELETION_PROB = 0.1, 0.1, 0.1\n",
    "POP_SIZE = 50\n",
    "MAX_GENERATIONS = 100\n",
    "ACTION_PROBS = np.ones(len(Action)) / len(Action)\n",
    "HEURISTIC_FNS = [\n",
    "    heuristic.count_number_points,\n",
    "    heuristic.bottom_top_even,\n",
    "    heuristic.duplicated_points,\n",
    "    lambda phenome: heuristic.out_of_bounds(phenome, SIDE_LEN),\n",
    "]\n",
    "FN_WEIGHTS = np.array([1, 0.2, 1, 1])\n",
    "\n",
    "# Draw config\n",
    "CMAP = \"gray\"\n",
    "drawer = MPLDrawer(CMAP)    "
   ]
  },
  {
   "cell_type": "markdown",
   "id": "6c034959",
   "metadata": {},
   "source": [
    "## Genetic Algorithm Tessellation\n",
    "We'll be using the LEAP package for our genetic algorithms."
   ]
  },
  {
   "cell_type": "code",
   "execution_count": 4,
   "id": "b8424802",
   "metadata": {
    "scrolled": true
   },
   "outputs": [
    {
     "name": "stdout",
     "output_type": "stream",
     "text": [
      "step,bsf\n",
      "0,65.53540554367002\n",
      "1,150.71120673564468\n",
      "2,188.16334987786922\n",
      "3,243.61780687819208\n",
      "4,243.61780687819208\n",
      "5,271.138057538947\n",
      "6,449.74204814479396\n",
      "7,449.74204814479396\n",
      "8,491.8889703029902\n",
      "9,519.0408541377953\n",
      "10,532.9362846061464\n",
      "11,532.9362846061464\n",
      "12,532.9362846061464\n",
      "13,546.15889537095\n",
      "14,546.15889537095\n",
      "15,587.3568215271507\n",
      "16,587.3568215271507\n",
      "17,655.3600000000001\n",
      "18,655.3600000000001\n",
      "19,655.3600000000001\n",
      "20,655.3600000000001\n",
      "21,655.3600000000001\n",
      "22,655.3600000000001\n",
      "23,655.3600000000001\n",
      "24,655.3600000000001\n",
      "25,655.3600000000001\n",
      "26,655.3600000000001\n",
      "27,655.3600000000001\n",
      "28,655.3600000000001\n",
      "29,655.3600000000001\n",
      "30,655.3600000000001\n",
      "31,655.3600000000001\n",
      "32,655.3600000000001\n",
      "33,655.3600000000001\n",
      "34,655.3600000000001\n",
      "35,655.3600000000001\n",
      "36,655.3600000000001\n",
      "37,655.3600000000001\n",
      "38,655.3600000000001\n",
      "39,655.3600000000001\n",
      "40,655.3600000000001\n",
      "41,655.3600000000001\n",
      "42,655.3600000000001\n",
      "43,655.3600000000001\n",
      "44,655.3600000000001\n",
      "45,655.3600000000001\n",
      "46,655.3600000000001\n",
      "47,655.3600000000001\n",
      "48,655.3600000000001\n",
      "49,655.3600000000001\n",
      "50,655.3600000000001\n",
      "51,655.3600000000001\n",
      "52,655.3600000000001\n",
      "53,655.3600000000001\n",
      "54,655.3600000000001\n",
      "55,655.3600000000001\n",
      "56,655.3600000000001\n",
      "57,655.3600000000001\n",
      "58,655.3600000000001\n",
      "59,655.3600000000001\n",
      "60,655.3600000000001\n",
      "61,655.3600000000001\n",
      "62,655.3600000000001\n",
      "63,655.3600000000001\n",
      "64,655.3600000000001\n",
      "65,655.3600000000001\n",
      "66,655.3600000000001\n",
      "67,655.3600000000001\n",
      "68,655.3600000000001\n",
      "69,655.3600000000001\n",
      "70,655.3600000000001\n",
      "71,655.3600000000001\n",
      "72,655.3600000000001\n",
      "73,655.3600000000001\n",
      "74,655.3600000000001\n",
      "75,655.3600000000001\n",
      "76,655.3600000000001\n",
      "77,655.3600000000001\n",
      "78,655.3600000000001\n",
      "79,655.3600000000001\n",
      "80,655.3600000000001\n",
      "81,655.3600000000001\n",
      "82,655.3600000000001\n",
      "83,655.3600000000001\n",
      "84,655.3600000000001\n",
      "85,655.3600000000001\n",
      "86,655.3600000000001\n",
      "87,655.3600000000001\n",
      "88,655.3600000000001\n",
      "89,655.3600000000001\n",
      "90,655.3600000000001\n",
      "91,655.3600000000001\n",
      "92,655.3600000000001\n",
      "93,655.3600000000001\n",
      "94,655.3600000000001\n",
      "95,655.3600000000001\n",
      "96,655.3600000000001\n",
      "97,655.3600000000001\n",
      "98,655.3600000000001\n",
      "99,655.3600000000001\n"
     ]
    },
    {
     "data": {
      "text/plain": [
       "array([-5.12, -5.12, -5.12, -5.12, -5.12])"
      ]
     },
     "execution_count": 4,
     "metadata": {},
     "output_type": "execute_result"
    }
   ],
   "source": [
    "from leap_ec.simple import ea_solve\n",
    "\n",
    "def f(x):\n",
    "    \"\"\"A real-valued function to optimized.\"\"\"\n",
    "    return sum(x)**2\n",
    "\n",
    "ea_solve(f, bounds=[(-5.12, 5.12) for _ in range(5)], maximize=True)"
   ]
  },
  {
   "cell_type": "markdown",
   "id": "251ab098-2dba-48ca-b86b-2c848ae8ddfb",
   "metadata": {},
   "source": [
    "### Define Problem and Representation"
   ]
  },
  {
   "cell_type": "code",
   "execution_count": 5,
   "id": "e31c5d39-f2e7-4636-9b29-02a40a245f12",
   "metadata": {},
   "outputs": [],
   "source": [
    "problem = TessellationProblem(\n",
    "    heuristic_fns=HEURISTIC_FNS, \n",
    "    fn_weights=FN_WEIGHTS, \n",
    "    side_len=SIDE_LEN\n",
    ")\n",
    "\n",
    "representation = Representation(\n",
    "    decoder=TessellationDecoder(),\n",
    "    initialize=lambda: initialize_genome(problem) \n",
    ")"
   ]
  },
  {
   "cell_type": "markdown",
   "id": "c9839c60-7757-415f-983c-2da49d596791",
   "metadata": {},
   "source": [
    "### Evolve!"
   ]
  },
  {
   "cell_type": "code",
   "execution_count": 6,
   "id": "d527f83a-e71f-4e1a-81fe-c02641857e06",
   "metadata": {
    "scrolled": true
   },
   "outputs": [
    {
     "name": "stdout",
     "output_type": "stream",
     "text": [
      "step,bsf\n",
      "0,101.6\n",
      "1,101.6\n",
      "2,104.8\n",
      "3,104.8\n",
      "4,104.8\n",
      "5,106.0\n",
      "6,109.0\n",
      "7,111.8\n",
      "8,111.8\n",
      "9,113.6\n",
      "10,113.6\n",
      "11,124.8\n",
      "12,124.8\n",
      "13,128.4\n",
      "14,128.4\n",
      "15,128.4\n",
      "16,128.4\n",
      "17,132.2\n",
      "18,140.4\n",
      "19,140.4\n",
      "20,140.4\n",
      "21,140.4\n",
      "22,141.8\n",
      "23,141.8\n",
      "24,142.8\n",
      "25,147.2\n",
      "26,147.2\n",
      "27,147.2\n",
      "28,151.8\n",
      "29,151.8\n",
      "30,153.8\n",
      "31,157.4\n",
      "32,157.4\n",
      "33,157.4\n",
      "34,159.6\n",
      "35,159.6\n",
      "36,159.6\n",
      "37,161.4\n",
      "38,161.4\n",
      "39,161.4\n",
      "40,161.4\n",
      "41,161.4\n",
      "42,161.4\n",
      "43,161.4\n",
      "44,161.4\n",
      "45,162.6\n",
      "46,162.6\n",
      "47,162.6\n",
      "48,162.6\n",
      "49,162.6\n",
      "50,162.6\n",
      "51,162.6\n",
      "52,162.6\n",
      "53,162.6\n",
      "54,162.6\n",
      "55,162.6\n",
      "56,162.6\n",
      "57,162.6\n",
      "58,162.6\n",
      "59,162.6\n",
      "60,162.6\n",
      "61,162.6\n",
      "62,162.6\n",
      "63,162.6\n",
      "64,162.6\n",
      "65,162.6\n",
      "66,162.6\n",
      "67,162.6\n",
      "68,162.6\n",
      "69,162.6\n",
      "70,162.6\n",
      "71,162.6\n",
      "72,162.6\n",
      "73,162.6\n",
      "74,164.2\n",
      "75,164.2\n",
      "76,164.2\n",
      "77,164.2\n",
      "78,164.2\n",
      "79,164.2\n",
      "80,164.2\n",
      "81,164.2\n",
      "82,164.2\n",
      "83,164.2\n",
      "84,164.2\n",
      "85,164.2\n",
      "86,164.2\n",
      "87,164.2\n",
      "88,164.2\n",
      "89,164.2\n",
      "90,164.2\n",
      "91,164.2\n",
      "92,164.2\n",
      "93,164.2\n",
      "94,164.2\n",
      "95,164.2\n",
      "96,164.2\n",
      "97,164.2\n",
      "98,164.2\n",
      "99,164.2\n"
     ]
    }
   ],
   "source": [
    "final_pop = generational_ea(\n",
    "    max_generations=MAX_GENERATIONS, \n",
    "    pop_size=POP_SIZE,\n",
    "    problem=problem,\n",
    "    representation=representation,\n",
    "\n",
    "    # The operator pipeline\n",
    "    pipeline=[\n",
    "        # Select parents via tournament_selection selection\n",
    "        ops.tournament_selection,\n",
    "        \n",
    "        ops.clone,  # Copy them (just to be safe)\n",
    "        lambda individual_iterator: mutate.apply_mutation(\n",
    "            mutate.substitute_action, individual_iterator, fn_kwargs={\"action_probs\": ACTION_PROBS}\n",
    "        ),\n",
    "        lambda individual_iterator: mutate.apply_mutation(\n",
    "            mutate.insert_action, individual_iterator, fn_kwargs={\"action_probs\": ACTION_PROBS}\n",
    "        ),\n",
    "        lambda individual_iterator: mutate.apply_mutation(mutate.delete_action, individual_iterator),\n",
    "        \n",
    "        # Crossover with a 40% chance of swapping each gene\n",
    "        # ops.UniformCrossover(p_swap=0.4),\n",
    "        \n",
    "        ops.evaluate,  # Evaluate fitness\n",
    "        \n",
    "        # Collect offspring into a new population\n",
    "        ops.pool(size=POP_SIZE),\n",
    "        \n",
    "        probe.BestSoFarProbe()  # Print the BSF\n",
    "    ]\n",
    ")"
   ]
  },
  {
   "cell_type": "markdown",
   "id": "219545c7-2f7d-43f0-a711-02592ef12f96",
   "metadata": {},
   "source": [
    "## Evaluate"
   ]
  },
  {
   "cell_type": "code",
   "execution_count": 7,
   "id": "62b5a613-089d-4822-a737-97aa2d2c40ce",
   "metadata": {},
   "outputs": [
    {
     "name": "stdout",
     "output_type": "stream",
     "text": [
      "Individual: 19; Fitness: 131.0\n"
     ]
    },
    {
     "data": {
      "image/png": "[encoded data removed]",
      "text/plain": [
       "<Figure size 640x480 with 1 Axes>"
      ]
     },
     "metadata": {},
     "output_type": "display_data"
    },
    {
     "name": "stdout",
     "output_type": "stream",
     "text": [
      "Press 'q' to quit, anything else to continue...\n"
     ]
    },
    {
     "name": "stderr",
     "output_type": "stream",
     "text": [
      "\n",
      "KeyboardInterrupt\n",
      "\n"
     ]
    }
   ],
   "source": [
    "from IPython.display import clear_output\n",
    "\n",
    "decoder = TessellationDecoder()\n",
    "show = True\n",
    "for idx, individual in enumerate(final_pop):\n",
    "    genome = individual.genome\n",
    "    phenome = decoder.decode(genome)\n",
    "    print(f\"Individual: {idx}; Fitness: {problem.evaluate(phenome)}\")\n",
    "    \n",
    "    mask = np.zeros((SIDE_LEN, SIDE_LEN), dtype=int)\n",
    "    mask = Generator._draw_line(mask, genome.start_point, genome.actions)\n",
    "    mask_T = Generator._draw_line(mask.T, genome.start_point, genome.actions)\n",
    "    final_mask = mask | mask_T\n",
    "    \n",
    "    result = GenerationResult(final_mask, [genome.actions, genome.actions])\n",
    "    tessellation = Generator.tessellate(result)\n",
    "    \n",
    "    drawer.draw(tessellation)\n",
    "    if show:\n",
    "        plt.show()\n",
    "        print(\"Press 'q' to quit, anything else to continue...\")\n",
    "        user_action = input()\n",
    "        \n",
    "    \n",
    "        if user_action.lower() == \"q\":\n",
    "            break\n",
    "        clear_output()\n",
    "    "
   ]
  },
  {
   "cell_type": "code",
   "execution_count": null,
   "id": "143c4760-493e-412b-a46a-1f1566e81edd",
   "metadata": {},
   "outputs": [],
   "source": []
  }
 ],
 "metadata": {
  "kernelspec": {
   "display_name": "Python 3 (ipykernel)",
   "language": "python",
   "name": "python3"
  },
  "language_info": {
   "codemirror_mode": {
    "name": "ipython",
    "version": 3
   },
   "file_extension": ".py",
   "mimetype": "text/x-python",
   "name": "python",
   "nbconvert_exporter": "python",
   "pygments_lexer": "ipython3",
   "version": "3.11.4"
  }
 },
 "nbformat": 4,
 "nbformat_minor": 5
}
