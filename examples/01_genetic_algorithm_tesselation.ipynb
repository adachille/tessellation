{
 "cells": [
  {
   "cell_type": "markdown",
   "id": "135fd008",
   "metadata": {},
   "source": [
    "# Genetic Algorithm Tessellation\n",
    "In this notebook, we'll use genetic algorithms to create tessellations!"
   ]
  },
  {
   "cell_type": "markdown",
   "id": "ac7b1111",
   "metadata": {},
   "source": [
    "## Setup"
   ]
  },
  {
   "cell_type": "code",
   "execution_count": 1,
   "id": "8824de5f",
   "metadata": {},
   "outputs": [],
   "source": [
    "%load_ext autoreload\n",
    "%autoreload 2\n",
    "\n",
    "import os\n",
    "os.chdir(\"..\") # Move execution to root dir"
   ]
  },
  {
   "cell_type": "code",
   "execution_count": 2,
   "id": "78914b74",
   "metadata": {},
   "outputs": [],
   "source": [
    "from datetime import datetime\n",
    "from enum import Enum, auto\n",
    "from pathlib import Path\n",
    "from typing import Callable, Iterator, Optional\n",
    "\n",
    "import numpy as np\n",
    "from matplotlib import pyplot as plt \n",
    "from leap_ec import ops, probe, Individual\n",
    "from leap_ec.algorithm import generational_ea\n",
    "from leap_ec.representation import Representation\n",
    "\n",
    "from tessellation.draw import Drawer\n",
    "from tessellation.procgen import Action, GenerationResult\n",
    "from tessellation.procgen.ga import heuristic, mutate\n",
    "from tessellation.procgen.ga.ga_generator import GATessellationGenerator"
   ]
  },
  {
   "cell_type": "markdown",
   "id": "279f977f",
   "metadata": {},
   "source": [
    "## Configuration"
   ]
  },
  {
   "cell_type": "markdown",
   "id": "768c6ea7-c858-4997-b58c-2457e2af9e6a",
   "metadata": {},
   "source": [
    "### Proc Gen constants"
   ]
  },
  {
   "cell_type": "code",
   "execution_count": 3,
   "id": "10177a81-d0d2-48cd-aa1c-21d694b037a7",
   "metadata": {},
   "outputs": [],
   "source": [
    "# Proc gen constants #\n",
    "SEED = 32\n",
    "SIDE_LEN = 100"
   ]
  },
  {
   "cell_type": "markdown",
   "id": "325c2eaf-e3c1-41a0-a26e-ac46e01abea4",
   "metadata": {},
   "source": [
    "### Genetic algorithm constants"
   ]
  },
  {
   "cell_type": "code",
   "execution_count": 4,
   "id": "e12fc97d",
   "metadata": {},
   "outputs": [],
   "source": [
    "# General\n",
    "POPULATION_SIZE = 50\n",
    "MAX_GENERATIONS = 100\n",
    "\n",
    "# Heuristics\n",
    "HEURISTIC_FNS = [\n",
    "    # lambda phenome:  heuristic.bottom_top_not_even_penalty(phenome, max_diff_before_penalty=20),\n",
    "    heuristic.duplicated_points_penalty,\n",
    "    lambda phenome: heuristic.out_of_bounds_penalty(phenome, SIDE_LEN),\n",
    "    heuristic.count_number_points_reward,\n",
    "    lambda phenome:  heuristic.bottom_top_even_reward(phenome, max_diff_before_reward=20),\n",
    "]\n",
    "HEURISTIC_FN_WEIGHTS = np.array([1, 0.2, 1, 1])\n",
    "\n",
    "# Mutation\n",
    "SUBSTITUTION_PROB, INSERTION_PROB, DELETION_PROB = 0.1, 0.1, 0.1\n",
    "ACTION_PROBS = np.ones(len(Action)) / len(Action)\n",
    "MUTATION_FNS = [\n",
    "    lambda individual_iterator: mutate.apply_mutation(\n",
    "        mutate.substitute_action,\n",
    "        individual_iterator,\n",
    "        fn_kwargs={\"action_probs\": ACTION_PROBS},\n",
    "    ),\n",
    "    lambda individual_iterator: mutate.apply_mutation(\n",
    "        mutate.insert_action,\n",
    "        individual_iterator,\n",
    "        fn_kwargs={\"action_probs\": ACTION_PROBS},\n",
    "    ),\n",
    "    lambda individual_iterator: mutate.apply_mutation(\n",
    "        mutate.delete_action, individual_iterator\n",
    "    ),\n",
    "]\n",
    "\n",
    "# Draw config\n",
    "CMAP = \"gray\"\n",
    "drawer = Drawer(CMAP)    \n",
    "\n",
    "# Save config\n",
    "SAVE_DIR = Path(f\"saved_tessellations/ga/\")\n",
    "SAVE_DIR.mkdir(parents=True, exist_ok=True)"
   ]
  },
  {
   "cell_type": "markdown",
   "id": "6dc439f6-9899-4a95-8277-a59aaa060247",
   "metadata": {},
   "source": [
    "## Genetic Algorithm"
   ]
  },
  {
   "cell_type": "code",
   "execution_count": 5,
   "id": "5e26fef2-2806-4c08-bdca-ca96bf030fa7",
   "metadata": {
    "scrolled": true
   },
   "outputs": [
    {
     "name": "stdout",
     "output_type": "stream",
     "text": [
      "step,bsf\n",
      "0,110.0\n",
      "1,121.0\n",
      "2,126.0\n",
      "3,126.0\n",
      "4,126.0\n",
      "5,131.0\n",
      "6,131.0\n",
      "7,134.0\n",
      "8,134.0\n",
      "9,136.0\n",
      "10,138.0\n",
      "11,146.0\n",
      "12,146.0\n",
      "13,146.0\n",
      "14,146.0\n",
      "15,154.0\n",
      "16,156.0\n",
      "17,156.0\n",
      "18,156.0\n",
      "19,156.0\n",
      "20,156.0\n",
      "21,156.0\n",
      "22,161.0\n",
      "23,161.0\n",
      "24,161.0\n",
      "25,161.0\n",
      "26,161.0\n",
      "27,161.0\n",
      "28,161.0\n",
      "29,161.0\n",
      "30,161.0\n",
      "31,161.0\n",
      "32,172.0\n",
      "33,172.0\n",
      "34,172.0\n",
      "35,172.0\n",
      "36,172.0\n",
      "37,172.0\n",
      "38,172.0\n",
      "39,172.0\n",
      "40,172.0\n",
      "41,172.0\n",
      "42,172.0\n",
      "43,172.0\n",
      "44,172.0\n",
      "45,172.0\n",
      "46,172.0\n",
      "47,172.0\n",
      "48,172.0\n",
      "49,172.0\n",
      "50,172.0\n",
      "51,181.0\n",
      "52,181.0\n",
      "53,181.0\n",
      "54,181.0\n",
      "55,181.0\n",
      "56,181.0\n",
      "57,181.0\n",
      "58,181.0\n",
      "59,181.0\n",
      "60,181.0\n",
      "61,181.0\n",
      "62,185.0\n",
      "63,185.0\n",
      "64,189.0\n",
      "65,189.0\n",
      "66,189.0\n",
      "67,189.0\n",
      "68,189.0\n",
      "69,189.0\n",
      "70,189.0\n",
      "71,189.0\n",
      "72,189.0\n",
      "73,189.0\n",
      "74,189.0\n",
      "75,189.0\n",
      "76,189.0\n",
      "77,189.0\n",
      "78,189.0\n",
      "79,189.0\n",
      "80,189.0\n",
      "81,189.0\n",
      "82,189.0\n",
      "83,189.0\n",
      "84,189.0\n",
      "85,189.0\n",
      "86,189.0\n",
      "87,189.0\n",
      "88,189.0\n",
      "89,189.0\n",
      "90,189.0\n",
      "91,189.0\n",
      "92,189.0\n",
      "93,189.0\n",
      "94,189.0\n",
      "95,189.0\n",
      "96,189.0\n",
      "97,189.0\n",
      "98,189.0\n",
      "99,189.0\n",
      "Invalid individual: Individual<64017994-c85f-4743-8229-9f39137c3256> with fitness -19821.0, returning None\n",
      "Invalid individual: Individual<986a77a7-dc52-49c9-8ef0-d80fa5af6287> with fitness -19825.0, returning None\n",
      "Invalid individual: Individual<872c1995-7b50-4c78-bc82-debdf2a7199c> with fitness -19832.0, returning None\n",
      "Invalid individual: Individual<cbcbaac6-f0b7-4da0-9cca-3ae043f374ed> with fitness -19832.0, returning None\n",
      "Invalid individual: Individual<f81e32f9-440b-473d-a840-5592eba0f676> with fitness -19833.0, returning None\n",
      "Invalid individual: Individual<f7eb773c-1af7-4b58-8edd-2f776e35cf14> with fitness -19837.0, returning None\n",
      "Invalid individual: Individual<815bb389-c775-438d-a590-214740b37e57> with fitness -19838.0, returning None\n",
      "Invalid individual: Individual<745fcd52-9a89-4243-ae6d-e3b29fad6c26> with fitness -19840.0, returning None\n",
      "Invalid individual: Individual<6de26205-3bc0-42ff-9c47-bbe9bb682e08> with fitness -19844.0, returning None\n",
      "Invalid individual: Individual<08a036c5-1633-4234-90ca-a524e3aba152> with fitness -19846.0, returning None\n",
      "Invalid individual: Individual<4964a134-4f4d-408d-9a9a-2eee05fdd9d9> with fitness -19847.0, returning None\n"
     ]
    }
   ],
   "source": [
    "generator = GATessellationGenerator(\n",
    "    heuristic_fns=HEURISTIC_FNS, \n",
    "    mutation_fns=MUTATION_FNS,\n",
    "    heuristic_fn_weights=HEURISTIC_FN_WEIGHTS, \n",
    "    side_len=SIDE_LEN,\n",
    "    max_generations=MAX_GENERATIONS,\n",
    "    population_size=POPULATION_SIZE,\n",
    ")\n",
    "results = generator.evolve()"
   ]
  },
  {
   "cell_type": "markdown",
   "id": "219545c7-2f7d-43f0-a711-02592ef12f96",
   "metadata": {},
   "source": [
    "## Evaluate"
   ]
  },
  {
   "cell_type": "code",
   "execution_count": 6,
   "id": "76280392-e4d0-409e-9eec-ad0466d714e4",
   "metadata": {},
   "outputs": [
    {
     "name": "stdout",
     "output_type": "stream",
     "text": [
      "Individual: 0; Fitness: 189.0\n"
     ]
    },
    {
     "data": {
      "image/png": "[encoded data removed]",
      "text/plain": [
       "<Figure size 640x480 with 1 Axes>"
      ]
     },
     "metadata": {},
     "output_type": "display_data"
    },
    {
     "name": "stdout",
     "output_type": "stream",
     "text": [
      "Press 's' to save, 'q' to quit, or 'enter' to continue...\n"
     ]
    },
    {
     "name": "stdin",
     "output_type": "stream",
     "text": [
      " q\n"
     ]
    }
   ],
   "source": [
    "from IPython.display import clear_output\n",
    "\n",
    "def display_tessellations(\n",
    "    generation_results: list[GenerationResult], save_dir: Path, show: bool = True,\n",
    "):\n",
    "    \"\"\"Display tessellations and allow user to save them.\"\"\"\n",
    "    should_continue = True\n",
    "    for idx, result in enumerate(generation_results):\n",
    "        print(f'Individual: {idx}; Fitness: {result.metadata[\"fitness\"]}')\n",
    "        \n",
    "        tessellation = drawer.tessellate(result)\n",
    "        drawer.draw(tessellation)\n",
    "        if show:\n",
    "            plt.show()\n",
    "            print(\"Press 's' to save, 'q' to quit, or 'enter' to continue...\")\n",
    "            while True:\n",
    "                user_action = input()\n",
    "                if not user_action:\n",
    "                    break\n",
    "\n",
    "                elif user_action.lower() == \"s\":\n",
    "                    print(\n",
    "                        \"Provide a name for the tessellation, or click 'enter' to use timestamp as name...\"\n",
    "                    )\n",
    "                    save_name = input()\n",
    "                    if not save_name:\n",
    "                        save_name = f\"{datetime.today().isoformat()}\"\n",
    "\n",
    "                    result.save_as_json(save_dir / f\"{save_name}.json\")\n",
    "                    drawer.save_as_png(save_dir / f\"{save_name}.png\", tessellation)\n",
    "                    break\n",
    "                elif user_action.lower() == \"q\":\n",
    "                    should_continue = False\n",
    "                    break\n",
    "\n",
    "        if should_continue:\n",
    "            clear_output()\n",
    "        else:\n",
    "            break\n",
    "\n",
    "display_tessellations(results, save_dir=SAVE_DIR)"
   ]
  },
  {
   "cell_type": "markdown",
   "id": "4d60e2a5-905d-453d-8d21-2f0ba29820b6",
   "metadata": {},
   "source": [
    "## Read saved tessellations"
   ]
  },
  {
   "cell_type": "code",
   "execution_count": 8,
   "id": "255a2b9b-627b-459a-8379-b09ca393d08d",
   "metadata": {},
   "outputs": [],
   "source": [
    "def load_and_display(tess_filename: str):\n",
    "    result = GenerationResult.read_json(SAVE_DIR / f\"{tess_filename}.json\")\n",
    "    tessellation = drawer.tessellate(result)\n",
    "    drawer.draw(tessellation)\n",
    "\n",
    "# load_and_display(\"cloud_puff\")"
   ]
  },
  {
   "cell_type": "code",
   "execution_count": 9,
   "id": "6b90f5ce-992a-49ab-93ad-b549cdf9a675",
   "metadata": {},
   "outputs": [],
   "source": [
    "# load_and_display(\"alien_hand_holding\")"
   ]
  },
  {
   "cell_type": "code",
   "execution_count": 10,
   "id": "f9ab0416-6ecb-4fe5-938b-94074d0e729a",
   "metadata": {},
   "outputs": [],
   "source": [
    "# load_and_display(\"trees\")"
   ]
  }
 ],
 "metadata": {
  "kernelspec": {
   "display_name": "Python 3 (ipykernel)",
   "language": "python",
   "name": "python3"
  },
  "language_info": {
   "codemirror_mode": {
    "name": "ipython",
    "version": 3
   },
   "file_extension": ".py",
   "mimetype": "text/x-python",
   "name": "python",
   "nbconvert_exporter": "python",
   "pygments_lexer": "ipython3",
   "version": "3.12.6"
  }
 },
 "nbformat": 4,
 "nbformat_minor": 5
}
