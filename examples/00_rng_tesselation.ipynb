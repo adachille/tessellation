{
 "cells": [
  {
   "cell_type": "code",
   "execution_count": 1,
   "id": "58972cb7",
   "metadata": {},
   "outputs": [
    {
     "ename": "ModuleNotFoundError",
     "evalue": "No module named 'matplotlib'",
     "output_type": "error",
     "traceback": [
      "\u001b[0;31m---------------------------------------------------------------------------\u001b[0m",
      "\u001b[0;31mModuleNotFoundError\u001b[0m                       Traceback (most recent call last)",
      "Cell \u001b[0;32mIn[1], line 5\u001b[0m\n\u001b[1;32m      2\u001b[0m \u001b[38;5;28;01mfrom\u001b[39;00m \u001b[38;5;21;01mtyping\u001b[39;00m \u001b[38;5;28;01mimport\u001b[39;00m Optional\n\u001b[1;32m      4\u001b[0m \u001b[38;5;28;01mimport\u001b[39;00m \u001b[38;5;21;01mnumpy\u001b[39;00m \u001b[38;5;28;01mas\u001b[39;00m \u001b[38;5;21;01mn\u001b[39;00m\n\u001b[0;32m----> 5\u001b[0m \u001b[38;5;28;01mfrom\u001b[39;00m \u001b[38;5;21;01mmatplotlib\u001b[39;00m \u001b[38;5;28;01mimport\u001b[39;00m pyplot \u001b[38;5;28;01mas\u001b[39;00m plt \n",
      "\u001b[0;31mModuleNotFoundError\u001b[0m: No module named 'matplotlib'"
     ]
    }
   ],
   "source": [
    "from enum import Enum, auto\n",
    "from typing import Optional\n",
    "\n",
    "import numpy as n\n",
    "from matplotlib import pyplot as plt "
   ]
  },
  {
   "cell_type": "code",
   "execution_count": null,
   "id": "c6ea58a2",
   "metadata": {},
   "outputs": [],
   "source": [
    "class Action(Enum):\n",
    "    UP = auto()\n",
    "    DOWN = auto()\n",
    "    UP_RIGHT = auto()\n",
    "    DOWN_RIGHT = auto()\n",
    "    RIGHT = auto()\n",
    "\n",
    "ACTIONS_LIST = [a for a in Action]\n",
    "ACTIONS_LIST_NO_DOWN = [a for a in ACTIONS_LIST if a not in [Action.DOWN, Action.DOWN_RIGHT]]\n",
    "ACTIONS_LIST_NO_UP = [a for a in ACTIONS_LIST if a not in [Action.UP, Action.UP_RIGHT]]\n",
    "N_ACTIONS = len(ACTIONS_LIST)"
   ]
  },
  {
   "cell_type": "code",
   "execution_count": null,
   "id": "ee1031f6",
   "metadata": {},
   "outputs": [],
   "source": [
    "# Proc gen constants\n",
    "SEED = 32\n",
    "SIDE_LEN = 100\n",
    "MIN_Y = - (1/5) * SIDE_LEN\n",
    "MAX_Y = abs(MIN_Y)\n",
    "\n",
    "# Draw constants\n",
    "CMAP = \"gray\""
   ]
  },
  {
   "cell_type": "code",
   "execution_count": null,
   "id": "81377a0e",
   "metadata": {},
   "outputs": [],
   "source": [
    "bg = np.zeros((SIDE_LEN, SIDE_LEN), dtype=int)\n",
    "plt.imshow(bg, cmap=plt.get_cmap(CMAP))"
   ]
  },
  {
   "cell_type": "code",
   "execution_count": null,
   "id": "408dd531",
   "metadata": {},
   "outputs": [],
   "source": [
    "rng = np.random.default_rng(SEED)\n",
    "\n",
    "def get_rand_action(actions_list: np.ndarray, action_probs: np.ndarray) -> int:\n",
    "    return rng.choice(actions_list, p=action_probs)\n",
    "\n",
    "def generate_tesselation_mask_side():\n",
    "    mask = np.copy(bg)\n",
    "    cursor = {\"x\": 0, \"y\": 0}\n",
    "    last_action = None\n",
    "    while cursor[\"x\"] < side_len-1:\n",
    "        action = get_rand_action(ACTIONS_LIST, action_probs)\n",
    "        if action == Action.UP:\n",
    "            cursor[\"y\"] -= 1\n",
    "        elif action == Action.UP_RIGHT:\n",
    "            cursor[\"y\"] -= 1\n",
    "            cursor[\"x\"] += 1\n",
    "        elif action == Action.RIGHT:\n",
    "            cursor[\"x\"] += 1\n",
    "        elif action == Action.DOWN:\n",
    "            cursor[\"y\"] += 1\n",
    "        elif action == Action.DOWN_RIGHT:\n",
    "            cursor[\"y\"] += 1\n",
    "            cursor[\"x\"] += 1\n",
    "        else:\n",
    "            raise ValueError(f\"Unsupported action: {action}\")\n",
    "\n",
    "        if cursor[\"y\"] >= 0:\n",
    "            mask[0:cursor[\"y\"], cursor[\"x\"]] = 1\n",
    "        else:\n",
    "            mask[cursor[\"y\"]:, cursor[\"x\"]] = 1\n",
    "        \n",
    "        last_action = action\n",
    "    return mask\n",
    "\n",
    "def generate_tesselation_mask():\n",
    "    y_mask = generate_tesselation_mask_side()\n",
    "    x_mask = generate_tesselation_mask_side().T\n",
    "    return x_mask | y_mask\n",
    "    \n",
    "ACTION_PROBS = np.full(N_ACTIONS, 1 / N_ACTIONS)\n",
    "mask = generate_tesselation_mask()\n",
    "plt.imshow(final_mask, cmap=plt.get_cmap(CMAP))"
   ]
  },
  {
   "cell_type": "code",
   "execution_count": null,
   "id": "ea9a0bd2",
   "metadata": {},
   "outputs": [],
   "source": [
    "def tesselate(mask: np.ndarray, n_shapes: int = 5) -> np.ndarray:\n",
    "    side_len_full_image = mask.shape[0] * n_shapes\n",
    "    full_image = np.zeros((side_len_full_image, side_len_full_image), dtype=int)\n",
    "    \n",
    "    color = 0\n",
    "    for i in range(n_shapes):\n",
    "        for j in range(n_shapes):\n",
    "            y_start = i * side_len\n",
    "            y_end = y_start + side_len\n",
    "            \n",
    "            x_start = j * side_len\n",
    "            x_end = x_start + side_len\n",
    "    \n",
    "            if color == 0:\n",
    "                color_mask = np.logical_not(mask)\n",
    "                color = 1\n",
    "            else:\n",
    "                color_mask = mask\n",
    "                color = 0\n",
    "            \n",
    "            full_image[y_start:y_end, x_start:x_end] = color_mask\n",
    "            \n",
    "    return full_image\n",
    "plt.imshow(tesselate(mask), cmap=plt.get_cmap(CMAP))"
   ]
  },
  {
   "cell_type": "code",
   "execution_count": null,
   "id": "a90789e7",
   "metadata": {},
   "outputs": [],
   "source": [
    "from IPython.display import clear_output\n",
    "\n",
    "while True:\n",
    "    mask = generate_tesselation_mask()\n",
    "    plt.imshow(tesselate(mask), cmap=plt.get_cmap(CMAP))\n",
    "    plt.show()\n",
    "    \n",
    "    print(\"Press 'q' to quit, anything else to keep generating...\")\n",
    "    user_input = input()\n",
    "    if user_input.lower() == \"q\":\n",
    "        break\n",
    "    clear_output()"
   ]
  }
 ],
 "metadata": {
  "kernelspec": {
   "display_name": "Python 3 (ipykernel)",
   "language": "python",
   "name": "python3"
  },
  "language_info": {
   "codemirror_mode": {
    "name": "ipython",
    "version": 3
   },
   "file_extension": ".py",
   "mimetype": "text/x-python",
   "name": "python",
   "nbconvert_exporter": "python",
   "pygments_lexer": "ipython3",
   "version": "3.9.19"
  }
 },
 "nbformat": 4,
 "nbformat_minor": 5
}
